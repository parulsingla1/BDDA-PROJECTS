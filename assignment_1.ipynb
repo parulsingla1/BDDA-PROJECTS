{
  "nbformat": 4,
  "nbformat_minor": 0,
  "metadata": {
    "kernelspec": {
      "display_name": "Python 3",
      "language": "python",
      "name": "python3"
    },
    "language_info": {
      "codemirror_mode": {
        "name": "ipython",
        "version": 3
      },
      "file_extension": ".py",
      "mimetype": "text/x-python",
      "name": "python",
      "nbconvert_exporter": "python",
      "pygments_lexer": "ipython3",
      "version": "3.7.3"
    },
    "colab": {
      "name": "assignment_1",
      "provenance": []
    }
  },
  "cells": [
    {
      "cell_type": "code",
      "metadata": {
        "id": "kB_C-l9VIVvY"
      },
      "source": [
        "from pyspark.sql import SparkSession\n"
      ],
      "execution_count": null,
      "outputs": []
    },
    {
      "cell_type": "code",
      "metadata": {
        "id": "Nbvddl15IVve"
      },
      "source": [
        "spark = SparkSession.builder.appName('CoronavirusNLP').getOrCreate()"
      ],
      "execution_count": null,
      "outputs": []
    },
    {
      "cell_type": "code",
      "metadata": {
        "id": "79YRlSYZIVvf"
      },
      "source": [
        "data = spark.read.csv('Corona_NLP_train.csv', header = True)"
      ],
      "execution_count": null,
      "outputs": []
    },
    {
      "cell_type": "code",
      "metadata": {
        "id": "OSaro8HQIVvf",
        "outputId": "7ace833c-3927-4a6b-f69d-53c372920871"
      },
      "source": [
        "data.show()"
      ],
      "execution_count": null,
      "outputs": [
        {
          "name": "stdout",
          "output_type": "stream",
          "text": [
            "+--------------------+--------------------+--------------------+--------------------+--------------------+---------+\n",
            "|            UserName|          ScreenName|            Location|             TweetAt|       OriginalTweet|Sentiment|\n",
            "+--------------------+--------------------+--------------------+--------------------+--------------------+---------+\n",
            "|                3799|               48751|              London|          16-03-2020|@MeNyrbie @Phil_G...|  Neutral|\n",
            "|                3800|               48752|                  UK|          16-03-2020|advice Talk to yo...| Positive|\n",
            "|                3801|               48753|           Vagabonds|          16-03-2020|Coronavirus Austr...| Positive|\n",
            "|                3802|               48754|                null|          16-03-2020|My food stock is ...|     null|\n",
            "|              PLEASE|         don't panic| THERE WILL BE EN...|                null|                null|     null|\n",
            "|           Stay calm|          stay safe.|                null|                null|                null|     null|\n",
            "|#COVID19france #C...|            Positive|                null|                null|                null|     null|\n",
            "|                3803|               48755|                null|          16-03-2020|Me, ready to go a...|     null|\n",
            "|Not because I'm p...| but because my f...|          but please| don't panic. It ...|                null|     null|\n",
            "|#CoronavirusFranc...|  Extremely Negative|                null|                null|                null|     null|\n",
            "|                3804|               48756|ÜT: 36.319708,-82...|          16-03-2020|As news of the re...| Positive|\n",
            "|                3805|               48757|35.926541,-78.753267|          16-03-2020|\"Cashier at groce...| Positive|\n",
            "|                3806|               48758|             Austria|          16-03-2020|Was at the superm...|     null|\n",
            "|#toiletpapercrisi...|             Neutral|                null|                null|                null|     null|\n",
            "|                3807|               48759|     Atlanta, GA USA|          16-03-2020|Due to COVID-19 o...| Positive|\n",
            "|                3808|               48760|    BHAVNAGAR,GUJRAT|          16-03-2020|For corona preven...| Negative|\n",
            "|                3809|               48761|      Makati, Manila|          16-03-2020|All month there h...|  Neutral|\n",
            "|                3810|               48762|Pitt Meadows, BC,...|          16-03-2020|Due to the Covid-...|     null|\n",
            "|The wait time may...| particularly bee...|                null|                null|                null|     null|\n",
            "|We thank you for ...|  Extremely Positive|                null|                null|                null|     null|\n",
            "+--------------------+--------------------+--------------------+--------------------+--------------------+---------+\n",
            "only showing top 20 rows\n",
            "\n"
          ]
        }
      ]
    },
    {
      "cell_type": "code",
      "metadata": {
        "id": "KpqULGkhIVvh",
        "outputId": "ba158286-e08b-4ba7-9cad-c125b2a33db1"
      },
      "source": [
        "data.describe()"
      ],
      "execution_count": null,
      "outputs": [
        {
          "data": {
            "text/plain": [
              "DataFrame[summary: string, UserName: string, ScreenName: string, Location: string, TweetAt: string, OriginalTweet: string, Sentiment: string]"
            ]
          },
          "execution_count": 5,
          "metadata": {},
          "output_type": "execute_result"
        }
      ]
    },
    {
      "cell_type": "code",
      "metadata": {
        "id": "LOkWUSRAIVvi",
        "outputId": "c698613c-333b-49f8-b3b2-931491187167"
      },
      "source": [
        "data.columns"
      ],
      "execution_count": null,
      "outputs": [
        {
          "data": {
            "text/plain": [
              "['UserName', 'ScreenName', 'Location', 'TweetAt', 'OriginalTweet', 'Sentiment']"
            ]
          },
          "execution_count": 6,
          "metadata": {},
          "output_type": "execute_result"
        }
      ]
    },
    {
      "cell_type": "code",
      "metadata": {
        "id": "mfaUzR1kIVvj",
        "outputId": "1e7cd512-cf34-40ef-a876-945937594851"
      },
      "source": [
        "print((data.count(),len(data.columns)))"
      ],
      "execution_count": null,
      "outputs": [
        {
          "name": "stdout",
          "output_type": "stream",
          "text": [
            "(68046, 6)\n"
          ]
        }
      ]
    },
    {
      "cell_type": "code",
      "metadata": {
        "id": "3cP0WnkfIVvk"
      },
      "source": [
        ""
      ],
      "execution_count": null,
      "outputs": []
    },
    {
      "cell_type": "code",
      "metadata": {
        "id": "UCNjl47TIVvk"
      },
      "source": [
        "#Data preparation\n"
      ],
      "execution_count": 1,
      "outputs": []
    },
    {
      "cell_type": "code",
      "metadata": {
        "id": "e_TcQJPZIVvl"
      },
      "source": [
        "from pyspark.sql.functions import length"
      ],
      "execution_count": null,
      "outputs": []
    },
    {
      "cell_type": "code",
      "metadata": {
        "id": "6_ustTGKIVvm"
      },
      "source": [
        "data = data.withColumn('Tweet_length', length(data['OriginalTweet']))"
      ],
      "execution_count": null,
      "outputs": []
    },
    {
      "cell_type": "code",
      "metadata": {
        "id": "em-3hqlCIVvn",
        "outputId": "e98a240a-45e9-4597-f188-389e5c9a0cf3"
      },
      "source": [
        "data.show()"
      ],
      "execution_count": null,
      "outputs": [
        {
          "name": "stdout",
          "output_type": "stream",
          "text": [
            "+--------------------+--------------------+--------------------+--------------------+--------------------+---------+------------+\n",
            "|            UserName|          ScreenName|            Location|             TweetAt|       OriginalTweet|Sentiment|Tweet_length|\n",
            "+--------------------+--------------------+--------------------+--------------------+--------------------+---------+------------+\n",
            "|                3799|               48751|              London|          16-03-2020|@MeNyrbie @Phil_G...|  Neutral|         111|\n",
            "|                3800|               48752|                  UK|          16-03-2020|advice Talk to yo...| Positive|         237|\n",
            "|                3801|               48753|           Vagabonds|          16-03-2020|Coronavirus Austr...| Positive|         131|\n",
            "|                3802|               48754|                null|          16-03-2020|My food stock is ...|     null|          51|\n",
            "|              PLEASE|         don't panic| THERE WILL BE EN...|                null|                null|     null|        null|\n",
            "|           Stay calm|          stay safe.|                null|                null|                null|     null|        null|\n",
            "|#COVID19france #C...|            Positive|                null|                null|                null|     null|        null|\n",
            "|                3803|               48755|                null|          16-03-2020|Me, ready to go a...|     null|          60|\n",
            "|Not because I'm p...| but because my f...|          but please| don't panic. It ...|                null|     null|        null|\n",
            "|#CoronavirusFranc...|  Extremely Negative|                null|                null|                null|     null|        null|\n",
            "|                3804|               48756|ÜT: 36.319708,-82...|          16-03-2020|As news of the re...| Positive|         249|\n",
            "|                3805|               48757|35.926541,-78.753267|          16-03-2020|\"Cashier at groce...| Positive|         184|\n",
            "|                3806|               48758|             Austria|          16-03-2020|Was at the superm...|     null|          61|\n",
            "|#toiletpapercrisi...|             Neutral|                null|                null|                null|     null|        null|\n",
            "|                3807|               48759|     Atlanta, GA USA|          16-03-2020|Due to COVID-19 o...| Positive|         280|\n",
            "|                3808|               48760|    BHAVNAGAR,GUJRAT|          16-03-2020|For corona preven...| Negative|         267|\n",
            "|                3809|               48761|      Makati, Manila|          16-03-2020|All month there h...|  Neutral|         276|\n",
            "|                3810|               48762|Pitt Meadows, BC,...|          16-03-2020|Due to the Covid-...|     null|          79|\n",
            "|The wait time may...| particularly bee...|                null|                null|                null|     null|        null|\n",
            "|We thank you for ...|  Extremely Positive|                null|                null|                null|     null|        null|\n",
            "+--------------------+--------------------+--------------------+--------------------+--------------------+---------+------------+\n",
            "only showing top 20 rows\n",
            "\n"
          ]
        }
      ]
    },
    {
      "cell_type": "code",
      "metadata": {
        "id": "3rJpWhpJIVvn"
      },
      "source": [
        "sentiments= ['Positive','Negative','Neutral','Extremely Positive','Extremely Negative']"
      ],
      "execution_count": null,
      "outputs": []
    },
    {
      "cell_type": "code",
      "metadata": {
        "id": "bCGaZlRQIVvo"
      },
      "source": [
        "#data.groupby('Sentiment').mean().show()"
      ],
      "execution_count": null,
      "outputs": []
    },
    {
      "cell_type": "code",
      "metadata": {
        "id": "vnaI4KfRIVvo"
      },
      "source": [
        "df = data.filter(data.Sentiment.isin(sentiments))"
      ],
      "execution_count": null,
      "outputs": []
    },
    {
      "cell_type": "code",
      "metadata": {
        "id": "zFTUV81_IVvp",
        "outputId": "19eda9ea-5040-49e7-bd70-463006df9879"
      },
      "source": [
        "df.select('Sentiment').distinct().show()"
      ],
      "execution_count": null,
      "outputs": [
        {
          "name": "stdout",
          "output_type": "stream",
          "text": [
            "+------------------+\n",
            "|         Sentiment|\n",
            "+------------------+\n",
            "|Extremely Negative|\n",
            "|           Neutral|\n",
            "|          Positive|\n",
            "|          Negative|\n",
            "|Extremely Positive|\n",
            "+------------------+\n",
            "\n"
          ]
        }
      ]
    },
    {
      "cell_type": "code",
      "metadata": {
        "id": "hwYvEJFgIVvp",
        "outputId": "28788d95-19b1-44ff-ff81-130403da3084"
      },
      "source": [
        "df.select('Sentiment').distinct().count()"
      ],
      "execution_count": null,
      "outputs": [
        {
          "data": {
            "text/plain": [
              "5"
            ]
          },
          "execution_count": 16,
          "metadata": {},
          "output_type": "execute_result"
        }
      ]
    },
    {
      "cell_type": "code",
      "metadata": {
        "id": "i2Ldq3nTIVvq",
        "outputId": "bc385da6-80db-4dbf-b58f-33c28ca33308"
      },
      "source": [
        "df.groupby('Sentiment').count().show()"
      ],
      "execution_count": null,
      "outputs": [
        {
          "name": "stdout",
          "output_type": "stream",
          "text": [
            "+------------------+-----+\n",
            "|         Sentiment|count|\n",
            "+------------------+-----+\n",
            "|Extremely Negative| 3751|\n",
            "|           Neutral| 5224|\n",
            "|          Positive| 7718|\n",
            "|          Negative| 6857|\n",
            "|Extremely Positive| 4412|\n",
            "+------------------+-----+\n",
            "\n"
          ]
        }
      ]
    },
    {
      "cell_type": "markdown",
      "metadata": {
        "id": "i8v278efIldS"
      },
      "source": [
        "## Here we have grouped the type of sentiments i.e. extremely negative,neutral,positive,negative,extremely positive\n"
      ]
    },
    {
      "cell_type": "code",
      "metadata": {
        "id": "Zo-2J7GrIVvq",
        "outputId": "4949580d-89da-4c55-ce0c-fbfde50f7232"
      },
      "source": [
        "df.groupby('Sentiment').mean().show()"
      ],
      "execution_count": null,
      "outputs": [
        {
          "name": "stdout",
          "output_type": "stream",
          "text": [
            "+------------------+------------------+\n",
            "|         Sentiment| avg(Tweet_length)|\n",
            "+------------------+------------------+\n",
            "|Extremely Negative| 209.6656891495601|\n",
            "|           Neutral| 151.2949846860643|\n",
            "|          Positive|193.66195905675045|\n",
            "|          Negative| 189.6651596908269|\n",
            "|Extremely Positive| 215.0605167724388|\n",
            "+------------------+------------------+\n",
            "\n"
          ]
        }
      ]
    },
    {
      "cell_type": "markdown",
      "metadata": {
        "id": "KizrWZhqI_EY"
      },
      "source": [
        "## We have calculated the mean of tweets"
      ]
    },
    {
      "cell_type": "code",
      "metadata": {
        "id": "GQLcMVjOIVvr",
        "outputId": "6fe8f45c-e595-46d4-edf6-1d0b1ff38d58"
      },
      "source": [
        "df.groupby('Location').mean().show()"
      ],
      "execution_count": null,
      "outputs": [
        {
          "name": "stdout",
          "output_type": "stream",
          "text": [
            "+--------------------+------------------+\n",
            "|            Location| avg(Tweet_length)|\n",
            "+--------------------+------------------+\n",
            "|                 ...|             197.0|\n",
            "| Mumbai, Maharashtra|154.66666666666666|\n",
            "| Brisbane, Australia|             207.0|\n",
            "|West Woofle-Dust ...|             157.0|\n",
            "|   St Petersburg, FL|169.57142857142858|\n",
            "| All across Michigan|             224.0|\n",
            "|     Northumberland |             280.0|\n",
            "|     stoke on trent |             187.0|\n",
            "|some where around...|             126.0|\n",
            "|           Bangalore|176.21052631578948|\n",
            "|           Norn Iron|             244.0|\n",
            "|Horsham, Pennsylv...|             189.0|\n",
            "|       Shimla  India|              89.0|\n",
            "|Ferrara, Emilia R...|             230.0|\n",
            "|      Luton, England|             198.0|\n",
            "|              Heaven|             198.0|\n",
            "|       St George, UT|             188.0|\n",
            "|Just to the left ...|             205.0|\n",
            "|           Worcester|             258.5|\n",
            "|      Nellore/Canada|             280.0|\n",
            "+--------------------+------------------+\n",
            "only showing top 20 rows\n",
            "\n"
          ]
        }
      ]
    },
    {
      "cell_type": "code",
      "metadata": {
        "id": "2WkxbpGSIVvr",
        "outputId": "639f3f71-729f-4358-afd2-f6f68ea98559"
      },
      "source": [
        "df.groupby('Location').count().show()"
      ],
      "execution_count": null,
      "outputs": [
        {
          "name": "stdout",
          "output_type": "stream",
          "text": [
            "+--------------------+-----+\n",
            "|            Location|count|\n",
            "+--------------------+-----+\n",
            "|                 ...|    1|\n",
            "| Mumbai, Maharashtra|    3|\n",
            "| Brisbane, Australia|    4|\n",
            "|West Woofle-Dust ...|    1|\n",
            "|   St Petersburg, FL|    7|\n",
            "| All across Michigan|    1|\n",
            "|     Northumberland |    1|\n",
            "|     stoke on trent |    1|\n",
            "|some where around...|    1|\n",
            "|           Bangalore|   19|\n",
            "|           Norn Iron|    1|\n",
            "|Horsham, Pennsylv...|    1|\n",
            "|       Shimla  India|    1|\n",
            "|Ferrara, Emilia R...|    1|\n",
            "|      Luton, England|    1|\n",
            "|              Heaven|    1|\n",
            "|       St George, UT|    1|\n",
            "|Just to the left ...|    1|\n",
            "|           Worcester|    2|\n",
            "|      Nellore/Canada|    1|\n",
            "+--------------------+-----+\n",
            "only showing top 20 rows\n",
            "\n"
          ]
        }
      ]
    },
    {
      "cell_type": "code",
      "metadata": {
        "id": "fl5KSq0FIVvs",
        "outputId": "63dd9615-d480-4afb-b9a6-809301b2523d"
      },
      "source": [
        "df.show()"
      ],
      "execution_count": null,
      "outputs": [
        {
          "name": "stdout",
          "output_type": "stream",
          "text": [
            "+--------+----------+--------------------+----------+--------------------+------------------+------------+\n",
            "|UserName|ScreenName|            Location|   TweetAt|       OriginalTweet|         Sentiment|Tweet_length|\n",
            "+--------+----------+--------------------+----------+--------------------+------------------+------------+\n",
            "|    3799|     48751|              London|16-03-2020|@MeNyrbie @Phil_G...|           Neutral|         111|\n",
            "|    3800|     48752|                  UK|16-03-2020|advice Talk to yo...|          Positive|         237|\n",
            "|    3801|     48753|           Vagabonds|16-03-2020|Coronavirus Austr...|          Positive|         131|\n",
            "|    3804|     48756|ÜT: 36.319708,-82...|16-03-2020|As news of the re...|          Positive|         249|\n",
            "|    3805|     48757|35.926541,-78.753267|16-03-2020|\"Cashier at groce...|          Positive|         184|\n",
            "|    3807|     48759|     Atlanta, GA USA|16-03-2020|Due to COVID-19 o...|          Positive|         280|\n",
            "|    3808|     48760|    BHAVNAGAR,GUJRAT|16-03-2020|For corona preven...|          Negative|         267|\n",
            "|    3809|     48761|      Makati, Manila|16-03-2020|All month there h...|           Neutral|         276|\n",
            "|    3811|     48763|          Horningsea|16-03-2020|#horningsea is a ...|Extremely Positive|         278|\n",
            "|    3813|     48765|                null|16-03-2020|ADARA Releases CO...|          Positive|         185|\n",
            "|    3818|     48770|          Denver, CO|16-03-2020|For those who are...|          Positive|         184|\n",
            "|    3819|     48771|southampton soxx xxx|16-03-2020|with 100  nations...|Extremely Negative|         251|\n",
            "|    3823|     48775|    Downstage centre|16-03-2020|@10DowningStreet ...|          Negative|         255|\n",
            "|    3824|     48776|              London|16-03-2020|UK #consumer poll...|Extremely Positive|         278|\n",
            "|    3825|     48777|      Ketchum, Idaho|16-03-2020|In preparation fo...|          Negative|         202|\n",
            "|    3826|     48778| Everywhere You Are!|16-03-2020|This morning I te...|Extremely Negative|         279|\n",
            "|    3829|     48781|                null|16-03-2020|There Is of in th...|          Negative|         114|\n",
            "|    3834|     48786|             Sverige|16-03-2020|Went to the super...|           Neutral|         122|\n",
            "|    3836|     48788|              Canada|16-03-2020|Worried about the...|          Positive|         225|\n",
            "|    3837|     48789|                null|16-03-2020|my wife works ret...|          Negative|         288|\n",
            "+--------+----------+--------------------+----------+--------------------+------------------+------------+\n",
            "only showing top 20 rows\n",
            "\n"
          ]
        }
      ]
    },
    {
      "cell_type": "code",
      "metadata": {
        "id": "nBqnuAd4IVvs",
        "outputId": "1f0d2358-0ada-43ed-bf56-dd3d34f744e7"
      },
      "source": [
        "print((df.count(),len(df.columns)))"
      ],
      "execution_count": null,
      "outputs": [
        {
          "name": "stdout",
          "output_type": "stream",
          "text": [
            "(27962, 7)\n"
          ]
        }
      ]
    },
    {
      "cell_type": "code",
      "metadata": {
        "id": "Kded3VB1IVvt"
      },
      "source": [
        "from pyspark.sql.functions import isnan,when,count,col"
      ],
      "execution_count": null,
      "outputs": []
    },
    {
      "cell_type": "code",
      "metadata": {
        "id": "25NXYnrqIVvt",
        "outputId": "fbc15450-1651-4fbf-d742-5af25d575b0c"
      },
      "source": [
        "df.select([count(when(isnan(c) | col(c).isNull(), c)).alias(c) for c in df.columns]).show()"
      ],
      "execution_count": null,
      "outputs": [
        {
          "name": "stdout",
          "output_type": "stream",
          "text": [
            "+--------+----------+--------+-------+-------------+---------+------------+\n",
            "|UserName|ScreenName|Location|TweetAt|OriginalTweet|Sentiment|Tweet_length|\n",
            "+--------+----------+--------+-------+-------------+---------+------------+\n",
            "|       0|         0|    6152|      0|            0|        0|           0|\n",
            "+--------+----------+--------+-------+-------------+---------+------------+\n",
            "\n"
          ]
        }
      ]
    },
    {
      "cell_type": "code",
      "metadata": {
        "id": "_qMQauJhIVvt"
      },
      "source": [
        ""
      ],
      "execution_count": null,
      "outputs": []
    },
    {
      "cell_type": "code",
      "metadata": {
        "id": "5SHjTiE_IVvu"
      },
      "source": [
        "#Feature Transformation"
      ],
      "execution_count": null,
      "outputs": []
    },
    {
      "cell_type": "code",
      "metadata": {
        "id": "UapWdq-7IVvu"
      },
      "source": [
        "from pyspark.ml.feature import Tokenizer, StopWordsRemover, CountVectorizer, IDF, StringIndexer, RegexTokenizer"
      ],
      "execution_count": null,
      "outputs": []
    },
    {
      "cell_type": "code",
      "metadata": {
        "id": "oFe5zG1DIVvu"
      },
      "source": [
        "tokenizer = Tokenizer(inputCol = \"OriginalTweet\", outputCol = \"token_text\")\n",
        "stopremove = StopWordsRemover(inputCol=\"token_text\", outputCol = \"stop_tokens\")\n",
        "#Cleaned version of Tokens\n",
        "#Counting Occurnace of tokens\n",
        "count_vec = CountVectorizer(inputCol = \"stop_tokens\", outputCol = \"c_vec\")\n",
        "idf = IDF(inputCol = \"c_vec\", outputCol = \"tf_idf\")\n",
        "\n",
        "Corona_to_num = StringIndexer(inputCol = \"Sentiment\", outputCol = \"label\")"
      ],
      "execution_count": null,
      "outputs": []
    },
    {
      "cell_type": "code",
      "metadata": {
        "id": "S3EzLC8cIVvv"
      },
      "source": [
        "from pyspark.ml.feature import VectorAssembler\n",
        "from pyspark.ml.linalg import Vector"
      ],
      "execution_count": null,
      "outputs": []
    },
    {
      "cell_type": "code",
      "metadata": {
        "id": "chuxxGDcIVvv"
      },
      "source": [
        "clean_up = VectorAssembler(inputCols =[\"tf_idf\", \"Tweet_length\"], outputCol = \"features\")"
      ],
      "execution_count": null,
      "outputs": []
    },
    {
      "cell_type": "code",
      "metadata": {
        "id": "FnXEROVdIVvv"
      },
      "source": [
        "#Model"
      ],
      "execution_count": null,
      "outputs": []
    },
    {
      "cell_type": "code",
      "metadata": {
        "id": "FRA1dyQ6IVvw"
      },
      "source": [
        "from pyspark.ml.classification import NaiveBayes, RandomForestClassifier, DecisionTreeClassifier"
      ],
      "execution_count": null,
      "outputs": []
    },
    {
      "cell_type": "code",
      "metadata": {
        "id": "-2UNAwaZIVvw"
      },
      "source": [
        "NB= NaiveBayes()\n",
        "RF = RandomForestClassifier(numTrees = 50)\n",
        "DTC = DecisionTreeClassifier (maxDepth = 10)"
      ],
      "execution_count": null,
      "outputs": []
    },
    {
      "cell_type": "code",
      "metadata": {
        "id": "p-K9VgCjIVvw"
      },
      "source": [
        "#pipeline"
      ],
      "execution_count": null,
      "outputs": []
    },
    {
      "cell_type": "code",
      "metadata": {
        "id": "hPmvZfEdIVvw"
      },
      "source": [
        "from pyspark.ml import Pipeline"
      ],
      "execution_count": null,
      "outputs": []
    },
    {
      "cell_type": "code",
      "metadata": {
        "id": "b8nAqja3IVvx"
      },
      "source": [
        "data_prep_pipeline = Pipeline(stages =[Corona_to_num,tokenizer, stopremove,count_vec,idf,clean_up])"
      ],
      "execution_count": null,
      "outputs": []
    },
    {
      "cell_type": "code",
      "metadata": {
        "id": "hK621TF0IVvx"
      },
      "source": [
        "cleaner = data_prep_pipeline.fit(df)"
      ],
      "execution_count": null,
      "outputs": []
    },
    {
      "cell_type": "code",
      "metadata": {
        "id": "SVV5Ugg-IVvx"
      },
      "source": [
        "clean_data = cleaner.transform(df)"
      ],
      "execution_count": null,
      "outputs": []
    },
    {
      "cell_type": "code",
      "metadata": {
        "id": "JTlPwj4pIVvx",
        "outputId": "90f167a2-f660-40f3-c735-6501bf795e79"
      },
      "source": [
        "clean_data.show()"
      ],
      "execution_count": null,
      "outputs": [
        {
          "name": "stdout",
          "output_type": "stream",
          "text": [
            "+--------+----------+--------------------+----------+--------------------+------------------+------------+-----+--------------------+--------------------+--------------------+--------------------+--------------------+\n",
            "|UserName|ScreenName|            Location|   TweetAt|       OriginalTweet|         Sentiment|Tweet_length|label|          token_text|         stop_tokens|               c_vec|              tf_idf|            features|\n",
            "+--------+----------+--------------------+----------+--------------------+------------------+------------+-----+--------------------+--------------------+--------------------+--------------------+--------------------+\n",
            "|    3799|     48751|              London|16-03-2020|@MeNyrbie @Phil_G...|           Neutral|         111|  2.0|[@menyrbie, @phil...|[@menyrbie, @phil...|(78305,[14499,289...|(78305,[14499,289...|(78306,[14499,289...|\n",
            "|    3800|     48752|                  UK|16-03-2020|advice Talk to yo...|          Positive|         237|  0.0|[advice, talk, to...|[advice, talk, ne...|(78305,[13,14,133...|(78305,[13,14,133...|(78306,[13,14,133...|\n",
            "|    3801|     48753|           Vagabonds|16-03-2020|Coronavirus Austr...|          Positive|         131|  0.0|[coronavirus, aus...|[coronavirus, aus...|(78305,[8,14,37,7...|(78305,[8,14,37,7...|(78306,[8,14,37,7...|\n",
            "|    3804|     48756|ÜT: 36.319708,-82...|16-03-2020|As news of the re...|          Positive|         249|  0.0|[as, news, of, th...|[news, regions, ...|(78305,[7,8,31,47...|(78305,[7,8,31,47...|(78306,[7,8,31,47...|\n",
            "|    3805|     48757|35.926541,-78.753267|16-03-2020|\"Cashier at groce...|          Positive|         184|  0.0|[\"cashier, at, gr...|[\"cashier, grocer...|(78305,[3,6,18,60...|(78305,[3,6,18,60...|(78306,[3,6,18,60...|\n",
            "|    3807|     48759|     Atlanta, GA USA|16-03-2020|Due to COVID-19 o...|          Positive|         280|  0.0|[due, to, covid-1...|[due, covid-19, r...|(78305,[1,6,8,13,...|(78305,[1,6,8,13,...|(78306,[1,6,8,13,...|\n",
            "|    3808|     48760|    BHAVNAGAR,GUJRAT|16-03-2020|For corona preven...|          Negative|         267|  1.0|[for, corona, pre...|[corona, preventi...|(78305,[11,13,14,...|(78305,[11,13,14,...|(78306,[11,13,14,...|\n",
            "|    3809|     48761|      Makati, Manila|16-03-2020|All month there h...|           Neutral|         276|  2.0|[all, month, ther...|[month, crowding,...|(78305,[48,70,147...|(78305,[48,70,147...|(78306,[48,70,147...|\n",
            "|    3811|     48763|          Horningsea|16-03-2020|#horningsea is a ...|Extremely Positive|         278|  3.0|[#horningsea, is,...|[#horningsea, car...|(78305,[13,14,23,...|(78305,[13,14,23,...|(78306,[13,14,23,...|\n",
            "|    3813|     48765|                null|16-03-2020|ADARA Releases CO...|          Positive|         185|  0.0|[adara, releases,...|[adara, releases,...|(78305,[8,10,23,5...|(78305,[8,10,23,5...|(78306,[8,10,23,5...|\n",
            "|    3818|     48770|          Denver, CO|16-03-2020|For those who are...|          Positive|         184|  0.0|[for, those, who,...|[struggling,, ple...|(78305,[4,8,24,38...|(78305,[4,8,24,38...|(78306,[4,8,24,38...|\n",
            "|    3819|     48771|southampton soxx xxx|16-03-2020|with 100  nations...|Extremely Negative|         251|  4.0|[with, 100, , nat...|[100, , nations, ...|(78305,[1,4,9,11,...|(78305,[1,4,9,11,...|(78306,[1,4,9,11,...|\n",
            "|    3823|     48775|    Downstage centre|16-03-2020|@10DowningStreet ...|          Negative|         255|  1.0|[@10downingstreet...|[@10downingstreet...|(78305,[4,21,44,7...|(78305,[4,21,44,7...|(78306,[4,21,44,7...|\n",
            "|    3824|     48776|              London|16-03-2020|UK #consumer poll...|Extremely Positive|         278|  3.0|[uk, #consumer, p...|[uk, #consumer, p...|(78305,[10,37,54,...|(78305,[10,37,54,...|(78306,[10,37,54,...|\n",
            "|    3825|     48777|      Ketchum, Idaho|16-03-2020|In preparation fo...|          Negative|         202|  1.0|[in, preparation,...|[preparation, hig...|(78305,[4,8,24,33...|(78305,[4,8,24,33...|(78306,[4,8,24,33...|\n",
            "|    3826|     48778| Everywhere You Are!|16-03-2020|This morning I te...|Extremely Negative|         279|  4.0|[this, morning, i...|[morning, tested,...|(78305,[1,7,11,36...|(78305,[1,7,11,36...|(78306,[1,7,11,36...|\n",
            "|    3829|     48781|                null|16-03-2020|There Is of in th...|          Negative|         114|  1.0|[there, is, of, i...|[country, , empty...|(78305,[1,4,7,34,...|(78305,[1,4,7,34,...|(78306,[1,4,7,34,...|\n",
            "|    3834|     48786|             Sverige|16-03-2020|Went to the super...|           Neutral|         122|  2.0|[went, to, the, s...|[went, supermarke...|(78305,[5,47,48,6...|(78305,[5,47,48,6...|(78306,[5,47,48,6...|\n",
            "|    3836|     48788|              Canada|16-03-2020|Worried about the...|          Positive|         225|  0.0|[worried, about, ...|[worried, impact,...|(78305,[8,12,23,2...|(78305,[8,12,23,2...|(78306,[8,12,23,2...|\n",
            "|    3837|     48789|                null|16-03-2020|my wife works ret...|          Negative|         288|  1.0|[my, wife, works,...|[wife, works, ret...|(78305,[6,28,33,9...|(78305,[6,28,33,9...|(78306,[6,28,33,9...|\n",
            "+--------+----------+--------------------+----------+--------------------+------------------+------------+-----+--------------------+--------------------+--------------------+--------------------+--------------------+\n",
            "only showing top 20 rows\n",
            "\n"
          ]
        }
      ]
    },
    {
      "cell_type": "code",
      "metadata": {
        "id": "C0Mn61h0IVvy"
      },
      "source": [
        ""
      ],
      "execution_count": null,
      "outputs": []
    },
    {
      "cell_type": "code",
      "metadata": {
        "id": "cEdCkUZKIVvy"
      },
      "source": [
        "clean_data = clean_data.select(['label','features'])"
      ],
      "execution_count": null,
      "outputs": []
    },
    {
      "cell_type": "code",
      "metadata": {
        "id": "V-UPYrIuIVvy",
        "outputId": "4e752359-d02a-4946-d0c2-f205e2057399"
      },
      "source": [
        "clean_data.show()"
      ],
      "execution_count": null,
      "outputs": [
        {
          "name": "stdout",
          "output_type": "stream",
          "text": [
            "+-----+--------------------+\n",
            "|label|            features|\n",
            "+-----+--------------------+\n",
            "|  2.0|(78306,[14499,289...|\n",
            "|  0.0|(78306,[13,14,133...|\n",
            "|  0.0|(78306,[8,14,37,7...|\n",
            "|  0.0|(78306,[7,8,31,47...|\n",
            "|  0.0|(78306,[3,6,18,60...|\n",
            "|  0.0|(78306,[1,6,8,13,...|\n",
            "|  1.0|(78306,[11,13,14,...|\n",
            "|  2.0|(78306,[48,70,147...|\n",
            "|  3.0|(78306,[13,14,23,...|\n",
            "|  0.0|(78306,[8,10,23,5...|\n",
            "|  0.0|(78306,[4,8,24,38...|\n",
            "|  4.0|(78306,[1,4,9,11,...|\n",
            "|  1.0|(78306,[4,21,44,7...|\n",
            "|  3.0|(78306,[10,37,54,...|\n",
            "|  1.0|(78306,[4,8,24,33...|\n",
            "|  4.0|(78306,[1,7,11,36...|\n",
            "|  1.0|(78306,[1,4,7,34,...|\n",
            "|  2.0|(78306,[5,47,48,6...|\n",
            "|  0.0|(78306,[8,12,23,2...|\n",
            "|  1.0|(78306,[6,28,33,9...|\n",
            "+-----+--------------------+\n",
            "only showing top 20 rows\n",
            "\n"
          ]
        }
      ]
    },
    {
      "cell_type": "code",
      "metadata": {
        "id": "qxsJz_ofIVvy"
      },
      "source": [
        "#ML Training"
      ],
      "execution_count": null,
      "outputs": []
    },
    {
      "cell_type": "code",
      "metadata": {
        "id": "vEQYhcNiIVvz"
      },
      "source": [
        "(training,testing)=clean_data.randomSplit([0.8,0.2])"
      ],
      "execution_count": null,
      "outputs": []
    },
    {
      "cell_type": "code",
      "metadata": {
        "id": "V0jI4bDUIVvz"
      },
      "source": [
        "PredictNB = NB.fit(training)"
      ],
      "execution_count": null,
      "outputs": []
    },
    {
      "cell_type": "code",
      "metadata": {
        "id": "vrMxNMJcIVvz"
      },
      "source": [
        "PredictRF= RF.fit(training)"
      ],
      "execution_count": null,
      "outputs": []
    },
    {
      "cell_type": "code",
      "metadata": {
        "id": "XoBSZeJ3IVvz"
      },
      "source": [
        "#testing the model"
      ],
      "execution_count": null,
      "outputs": []
    },
    {
      "cell_type": "code",
      "metadata": {
        "id": "6oIiDS73IVvz"
      },
      "source": [
        "NB_results = PredictNB.transform(testing)"
      ],
      "execution_count": null,
      "outputs": []
    },
    {
      "cell_type": "code",
      "metadata": {
        "id": "1V38_yO7IVv0"
      },
      "source": [
        "RF_results = PredictRF.transform(testing)"
      ],
      "execution_count": null,
      "outputs": []
    },
    {
      "cell_type": "code",
      "metadata": {
        "id": "RPUMbh9eIVv0"
      },
      "source": [
        "#DTC_results = PredictDTC.transform(testing)"
      ],
      "execution_count": null,
      "outputs": []
    },
    {
      "cell_type": "code",
      "metadata": {
        "id": "sMEfHAnvIVv0",
        "outputId": "0563a28a-aaa0-4e99-9f18-622529022091"
      },
      "source": [
        "NB_results.show()"
      ],
      "execution_count": null,
      "outputs": [
        {
          "name": "stdout",
          "output_type": "stream",
          "text": [
            "+-----+--------------------+--------------------+--------------------+----------+\n",
            "|label|            features|       rawPrediction|         probability|prediction|\n",
            "+-----+--------------------+--------------------+--------------------+----------+\n",
            "|  0.0|(78306,[0,1,2,7,1...|[-1207.2654728345...|[1.23172711334096...|       4.0|\n",
            "|  0.0|(78306,[0,1,2,12,...|[-1155.6053393367...|[4.49669991632944...|       3.0|\n",
            "|  0.0|(78306,[0,1,2,16,...|[-1247.5586027990...|[0.99992116013007...|       0.0|\n",
            "|  0.0|(78306,[0,1,2,16,...|[-1388.3384940412...|[5.52243859179497...|       4.0|\n",
            "|  0.0|(78306,[0,1,2,29,...|[-1850.6003542964...|[2.37600010972831...|       4.0|\n",
            "|  0.0|(78306,[0,1,2,30,...|[-2398.4784545940...|[0.99998786596188...|       0.0|\n",
            "|  0.0|(78306,[0,1,2,40,...|[-1477.6725368856...|[6.24553590260341...|       2.0|\n",
            "|  0.0|(78306,[0,1,3,4,6...|[-1168.4420450442...|[6.68937393488242...|       4.0|\n",
            "|  0.0|(78306,[0,1,3,4,1...|[-1221.7800777800...|[5.24914792017073...|       2.0|\n",
            "|  0.0|(78306,[0,1,3,6,7...|[-1305.2735048418...|[4.13570016258484...|       3.0|\n",
            "|  0.0|(78306,[0,1,3,6,1...|[-1088.0861543391...|[8.99506281025307...|       3.0|\n",
            "|  0.0|(78306,[0,1,3,6,1...|[-1000.2148739507...|[1.09861119558768...|       4.0|\n",
            "|  0.0|(78306,[0,1,3,6,1...|[-1132.1674175135...|[0.07463808854436...|       3.0|\n",
            "|  0.0|(78306,[0,1,3,6,1...|[-955.71473580545...|[6.06690534440760...|       4.0|\n",
            "|  0.0|(78306,[0,1,3,6,1...|[-1769.4531357523...|[1.36957733619516...|       3.0|\n",
            "|  0.0|(78306,[0,1,3,6,1...|[-668.95705224869...|[0.01454524823461...|       3.0|\n",
            "|  0.0|(78306,[0,1,3,6,2...|[-2239.6295000709...|[6.62617176027843...|       4.0|\n",
            "|  0.0|(78306,[0,1,3,6,5...|[-1942.7170234589...|[0.80789690040752...|       0.0|\n",
            "|  0.0|(78306,[0,1,3,6,1...|[-937.11022960676...|[1.28938581460795...|       3.0|\n",
            "|  0.0|(78306,[0,1,3,7,1...|[-1719.3600370578...|[5.50314673745056...|       3.0|\n",
            "+-----+--------------------+--------------------+--------------------+----------+\n",
            "only showing top 20 rows\n",
            "\n"
          ]
        }
      ]
    },
    {
      "cell_type": "code",
      "metadata": {
        "id": "InjBJbzZIVv1",
        "outputId": "e99a5577-90d3-40dd-bd9f-17d18cf138fc"
      },
      "source": [
        "RF_results.show()"
      ],
      "execution_count": null,
      "outputs": [
        {
          "name": "stdout",
          "output_type": "stream",
          "text": [
            "+-----+--------------------+--------------------+--------------------+----------+\n",
            "|label|            features|       rawPrediction|         probability|prediction|\n",
            "+-----+--------------------+--------------------+--------------------+----------+\n",
            "|  0.0|(78306,[0,1,2,7,1...|[13.9174724015062...|[0.27834944803012...|       0.0|\n",
            "|  0.0|(78306,[0,1,2,12,...|[14.4229994994904...|[0.28845998998980...|       0.0|\n",
            "|  0.0|(78306,[0,1,2,16,...|[13.9739187701817...|[0.27947837540363...|       0.0|\n",
            "|  0.0|(78306,[0,1,2,16,...|[13.8970632598946...|[0.27794126519789...|       0.0|\n",
            "|  0.0|(78306,[0,1,2,29,...|[13.7672246487022...|[0.27534449297404...|       0.0|\n",
            "|  0.0|(78306,[0,1,2,30,...|[14.1322917944135...|[0.28264583588827...|       0.0|\n",
            "|  0.0|(78306,[0,1,2,40,...|[14.0790984865649...|[0.28158196973129...|       0.0|\n",
            "|  0.0|(78306,[0,1,3,4,6...|[14.0381486927753...|[0.28076297385550...|       0.0|\n",
            "|  0.0|(78306,[0,1,3,4,1...|[14.0958876813158...|[0.28191775362631...|       0.0|\n",
            "|  0.0|(78306,[0,1,3,6,7...|[14.0173479273081...|[0.28034695854616...|       0.0|\n",
            "|  0.0|(78306,[0,1,3,6,1...|[14.0884883822251...|[0.28176976764450...|       0.0|\n",
            "|  0.0|(78306,[0,1,3,6,1...|[14.2339073223475...|[0.28467814644695...|       0.0|\n",
            "|  0.0|(78306,[0,1,3,6,1...|[14.0884883822251...|[0.28176976764450...|       0.0|\n",
            "|  0.0|(78306,[0,1,3,6,1...|[14.0884883822251...|[0.28176976764450...|       0.0|\n",
            "|  0.0|(78306,[0,1,3,6,1...|[14.0942826517415...|[0.28188565303483...|       0.0|\n",
            "|  0.0|(78306,[0,1,3,6,1...|[14.0166820121111...|[0.28033364024222...|       0.0|\n",
            "|  0.0|(78306,[0,1,3,6,2...|[14.1821258250740...|[0.28364251650148...|       0.0|\n",
            "|  0.0|(78306,[0,1,3,6,5...|[14.1299690955647...|[0.28259938191129...|       0.0|\n",
            "|  0.0|(78306,[0,1,3,6,1...|[14.0239343467383...|[0.28047868693476...|       0.0|\n",
            "|  0.0|(78306,[0,1,3,7,1...|[13.8297731568071...|[0.27659546313614...|       0.0|\n",
            "+-----+--------------------+--------------------+--------------------+----------+\n",
            "only showing top 20 rows\n",
            "\n"
          ]
        }
      ]
    },
    {
      "cell_type": "code",
      "metadata": {
        "id": "FyDLYNr3IVv2"
      },
      "source": [
        "#DTC_results.show()"
      ],
      "execution_count": null,
      "outputs": []
    },
    {
      "cell_type": "code",
      "metadata": {
        "id": "mVCnVORrIVv2"
      },
      "source": [
        "from pyspark.ml.evaluation import MulticlassClassificationEvaluator"
      ],
      "execution_count": null,
      "outputs": []
    },
    {
      "cell_type": "code",
      "metadata": {
        "id": "tluYJAkuIVv2"
      },
      "source": [
        "eva = MulticlassClassificationEvaluator()\n",
        "acc_NB = eva.evaluate(NB_results)"
      ],
      "execution_count": null,
      "outputs": []
    },
    {
      "cell_type": "code",
      "metadata": {
        "id": "-lftllIDIVv3"
      },
      "source": [
        "eva = MulticlassClassificationEvaluator()\n",
        "acc_RF = eva.evaluate(RF_results)"
      ],
      "execution_count": null,
      "outputs": []
    },
    {
      "cell_type": "code",
      "metadata": {
        "id": "z_i6uB8aIVv3",
        "outputId": "463c62ca-c519-4528-a3be-a21f902b9c1a"
      },
      "source": [
        "print(\"accuracy of the NB and RF is ::\", acc_NB, acc_RF)"
      ],
      "execution_count": null,
      "outputs": [
        {
          "name": "stdout",
          "output_type": "stream",
          "text": [
            "accuracy of the NB and RF is :: 0.4050110016069719 0.11208634595726202\n"
          ]
        }
      ]
    },
    {
      "cell_type": "code",
      "metadata": {
        "id": "OWrU0DDWIVv3"
      },
      "source": [
        ""
      ],
      "execution_count": null,
      "outputs": []
    }
  ]
}