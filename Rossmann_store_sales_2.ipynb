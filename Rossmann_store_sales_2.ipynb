{
  "nbformat": 4,
  "nbformat_minor": 0,
  "metadata": {
    "kernelspec": {
      "language": "python",
      "display_name": "Python 3",
      "name": "python3"
    },
    "language_info": {
      "name": "python",
      "version": "3.7.9",
      "mimetype": "text/x-python",
      "codemirror_mode": {
        "name": "ipython",
        "version": 3
      },
      "pygments_lexer": "ipython3",
      "nbconvert_exporter": "python",
      "file_extension": ".py"
    },
    "colab": {
      "name": "Rossmann_store_sales (1) (1).ipynb",
      "provenance": []
    }
  },
  "cells": [
    {
      "cell_type": "markdown",
      "metadata": {
        "id": "KerXSqeZ7qcX"
      },
      "source": [
        "# Rossmann Store Sales\n",
        "\n",
        "Forecast sales using store, promotion, and competitor data"
      ]
    },
    {
      "cell_type": "markdown",
      "metadata": {
        "id": "vTMeqTUJL9Bm"
      },
      "source": [
        "Rossmann operates over 3,000 drug stores in 7 European countries. Currently, Rossmann store managers are tasked with predicting their daily sales for up to six weeks in advance. Store sales are influenced by many factors, including promotions, competition, school and state holidays, seasonality, and locality. With thousands of individual managers predicting sales based on their unique circumstances, the accuracy of results can be quite varied."
      ]
    },
    {
      "cell_type": "markdown",
      "metadata": {
        "id": "hrPNLdJhMABU"
      },
      "source": [
        "Most of the fields are self-explanatory. The following are descriptions for those that aren't.\n",
        "\n",
        "-**Id** - an Id that represents a (Store, Date) duple within the test set\n",
        "\n",
        "-**Store** - a unique Id for each store\n",
        "\n",
        "-**Sales** - the turnover for any given day (this is what you are predicting)\n",
        "\n",
        "-**Customers** - the number of customers on a given day\n",
        "\n",
        "-**Open** - an indicator for whether the store was open: 0 = closed, 1 = open\n",
        "\n",
        "-**StateHoliday** - indicates a state holiday. Normally all stores, with few exceptions, are closed on state holidays. Note that all schools are closed on public holidays and weekends. a = public holiday, b = Easter holiday, c = Christmas, 0 = None\n",
        "\n",
        "-**SchoolHoliday** - indicates if the (Store, Date) was affected by the closure of public schools\n",
        "\n",
        "\n",
        "-**StoreType** - differentiates between 4 different store models: a, b, c, d\n",
        "\n",
        "-**Assortment** - describes an assortment level: a = basic, b = extra, c = extended\n",
        "\n",
        "-**CompetitionDistance** - distance in meters to the nearest competitor store\n",
        "\n",
        "-**CompetitionOpenSince[Month/Year]** - gives the approximate year and month of the time the nearest competitor was opened\n",
        "\n",
        "-**Promo** - indicates whether a store is running a promo on that day\n",
        "\n",
        "-**Promo2** - Promo2 is a continuing and consecutive promotion for some stores: 0 = store is not participating, 1 = store is participating\n",
        "\n",
        "-**Promo2Since[Year/Week]** - describes the year and calendar week when the store started participating in Promo2\n",
        "\n",
        "-**PromoInterval -** describes the consecutive intervals Promo2 is started, naming the months the promotion is started anew. E.g. \"Feb,May,Aug,Nov\" means each round starts in February, May, August, November of any given year for that store"
      ]
    },
    {
      "cell_type": "markdown",
      "metadata": {
        "id": "K-njv2fJMEtt"
      },
      "source": [
        ""
      ]
    },
    {
      "cell_type": "code",
      "metadata": {
        "_uuid": "8f2839f25d086af736a60e9eeb907d3b93b6e0e5",
        "_cell_guid": "b1076dfc-b9ad-4769-8c92-a6c4dae69d19",
        "execution": {
          "iopub.status.busy": "2021-08-30T21:14:17.564204Z",
          "iopub.execute_input": "2021-08-30T21:14:17.564699Z",
          "iopub.status.idle": "2021-08-30T21:14:18.474053Z",
          "shell.execute_reply.started": "2021-08-30T21:14:17.564590Z",
          "shell.execute_reply": "2021-08-30T21:14:18.473238Z"
        },
        "trusted": true,
        "id": "qe4upE-b7qca",
        "colab": {
          "base_uri": "https://localhost:8080/",
          "height": 17
        },
        "outputId": "ae2d5b79-d137-40b7-818c-c57a92e946a0"
      },
      "source": [
        "import numpy as np\n",
        "import pandas as pd\n",
        "from datetime import datetime\n",
        "import matplotlib.pyplot as plt\n",
        "%matplotlib inline\n",
        "import seaborn as sns\n",
        "from scipy import stats\n",
        "import itertools\n",
        "import xgboost as xgb\n",
        "import plotly.express as px\n",
        "import plotly.graph_objects as go\n",
        "from plotly.offline import download_plotlyjs,init_notebook_mode,plot,iplot\n",
        "init_notebook_mode(connected=True)\n",
        "from plotly.subplots import make_subplots\n",
        "%matplotlib inline\n"
      ],
      "execution_count": 58,
      "outputs": [
        {
          "output_type": "display_data",
          "data": {
            "text/html": [
              "        <script type=\"text/javascript\">\n",
              "        window.PlotlyConfig = {MathJaxConfig: 'local'};\n",
              "        if (window.MathJax) {MathJax.Hub.Config({SVG: {font: \"STIX-Web\"}});}\n",
              "        if (typeof require !== 'undefined') {\n",
              "        require.undef(\"plotly\");\n",
              "        requirejs.config({\n",
              "            paths: {\n",
              "                'plotly': ['https://cdn.plot.ly/plotly-latest.min']\n",
              "            }\n",
              "        });\n",
              "        require(['plotly'], function(Plotly) {\n",
              "            window._Plotly = Plotly;\n",
              "        });\n",
              "        }\n",
              "        </script>\n",
              "        "
            ]
          },
          "metadata": {}
        }
      ]
    },
    {
      "cell_type": "code",
      "metadata": {
        "id": "-RJZRwT3MY2s"
      },
      "source": [
        "# Display multiple commands output from a cell\n",
        "from IPython.core.interactiveshell import InteractiveShell\n",
        "InteractiveShell.ast_node_interactivity = \"all\""
      ],
      "execution_count": 2,
      "outputs": []
    },
    {
      "cell_type": "code",
      "metadata": {
        "execution": {
          "iopub.status.busy": "2021-08-30T21:14:18.476789Z",
          "iopub.execute_input": "2021-08-30T21:14:18.477248Z",
          "iopub.status.idle": "2021-08-30T21:14:18.482259Z",
          "shell.execute_reply.started": "2021-08-30T21:14:18.477183Z",
          "shell.execute_reply": "2021-08-30T21:14:18.480957Z"
        },
        "trusted": true,
        "id": "iCRKa7B07qcb"
      },
      "source": [
        "def str_to_date(date):\n",
        "    return datetime.strptime(date, '%Y-%m-%d').date()"
      ],
      "execution_count": 3,
      "outputs": []
    },
    {
      "cell_type": "code",
      "metadata": {
        "id": "OFoexEoQtpX3",
        "colab": {
          "resources": {
            "http://localhost:8080/nbextensions/google.colab/files.js": {
              "data": "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",
              "ok": true,
              "headers": [
                [
                  "content-type",
                  "application/javascript"
                ]
              ],
              "status": 200,
              "status_text": ""
            }
          },
          "base_uri": "https://localhost:8080/",
          "height": 174
        },
        "outputId": "a0c53335-42fb-449b-f3a4-9c99c3e79fa2"
      },
      "source": [
        "from google.colab import files\n",
        "uploaded = files.upload()\n"
      ],
      "execution_count": 4,
      "outputs": [
        {
          "output_type": "display_data",
          "data": {
            "text/html": [
              "\n",
              "     <input type=\"file\" id=\"files-6f846b37-e6cd-429e-8ea5-35a21eb40132\" name=\"files[]\" multiple disabled\n",
              "        style=\"border:none\" />\n",
              "     <output id=\"result-6f846b37-e6cd-429e-8ea5-35a21eb40132\">\n",
              "      Upload widget is only available when the cell has been executed in the\n",
              "      current browser session. Please rerun this cell to enable.\n",
              "      </output>\n",
              "      <script src=\"/nbextensions/google.colab/files.js\"></script> "
            ],
            "text/plain": [
              "<IPython.core.display.HTML object>"
            ]
          },
          "metadata": {}
        },
        {
          "output_type": "stream",
          "name": "stdout",
          "text": [
            "Saving sample_submission.csv to sample_submission.csv\n",
            "Saving store.csv to store.csv\n",
            "Saving test.csv to test.csv\n",
            "Saving train.csv to train.csv\n"
          ]
        }
      ]
    },
    {
      "cell_type": "markdown",
      "metadata": {
        "id": "xwWrrgvt7qcc"
      },
      "source": [
        "## Feature Engineering\n"
      ]
    },
    {
      "cell_type": "code",
      "metadata": {
        "execution": {
          "iopub.status.busy": "2021-08-30T21:14:18.498247Z",
          "iopub.execute_input": "2021-08-30T21:14:18.498562Z",
          "iopub.status.idle": "2021-08-30T21:14:32.880167Z",
          "shell.execute_reply.started": "2021-08-30T21:14:18.498532Z",
          "shell.execute_reply": "2021-08-30T21:14:32.879332Z"
        },
        "trusted": true,
        "id": "u_TqhPqr7qcc"
      },
      "source": [
        "df_train = pd.read_csv('train.csv',\n",
        "                       sep=',',\n",
        "                       parse_dates=['Date'],\n",
        "                       date_parser=str_to_date,\n",
        "                       low_memory=False\n",
        ")"
      ],
      "execution_count": 26,
      "outputs": []
    },
    {
      "cell_type": "code",
      "metadata": {
        "execution": {
          "iopub.status.busy": "2021-08-30T21:14:32.883998Z",
          "iopub.execute_input": "2021-08-30T21:14:32.884703Z",
          "iopub.status.idle": "2021-08-30T21:14:32.905928Z",
          "shell.execute_reply.started": "2021-08-30T21:14:32.884651Z",
          "shell.execute_reply": "2021-08-30T21:14:32.904868Z"
        },
        "trusted": true,
        "id": "5cwKaICO7qcd"
      },
      "source": [
        "df_store = pd.read_csv('store.csv',\n",
        "                       low_memory=False\n",
        ")"
      ],
      "execution_count": 27,
      "outputs": []
    },
    {
      "cell_type": "code",
      "metadata": {
        "colab": {
          "base_uri": "https://localhost:8080/"
        },
        "id": "LrsZM2oeMwDO",
        "outputId": "a28ea7ea-25c0-430c-d402-31d85727cb07"
      },
      "source": [
        "df_store.dtypes"
      ],
      "execution_count": 28,
      "outputs": [
        {
          "output_type": "execute_result",
          "data": {
            "text/plain": [
              "Store                          int64\n",
              "StoreType                     object\n",
              "Assortment                    object\n",
              "CompetitionDistance          float64\n",
              "CompetitionOpenSinceMonth    float64\n",
              "CompetitionOpenSinceYear     float64\n",
              "Promo2                         int64\n",
              "Promo2SinceWeek              float64\n",
              "Promo2SinceYear              float64\n",
              "PromoInterval                 object\n",
              "dtype: object"
            ]
          },
          "metadata": {},
          "execution_count": 28
        }
      ]
    },
    {
      "cell_type": "code",
      "metadata": {
        "colab": {
          "base_uri": "https://localhost:8080/"
        },
        "id": "bnap5DatMybD",
        "outputId": "f50fc0e6-ac12-4e49-fe77-55a39e2328c2"
      },
      "source": [
        "df_store.shape"
      ],
      "execution_count": 29,
      "outputs": [
        {
          "output_type": "execute_result",
          "data": {
            "text/plain": [
              "(1115, 10)"
            ]
          },
          "metadata": {},
          "execution_count": 29
        }
      ]
    },
    {
      "cell_type": "code",
      "metadata": {
        "colab": {
          "base_uri": "https://localhost:8080/"
        },
        "id": "a_hrYBlDM7lf",
        "outputId": "b9e67dfc-cdff-4434-df6d-5aec851199cc"
      },
      "source": [
        "print()\n",
        "df_store.nunique()        # Total no of unique values in each column"
      ],
      "execution_count": 30,
      "outputs": [
        {
          "output_type": "stream",
          "name": "stdout",
          "text": [
            "\n"
          ]
        },
        {
          "output_type": "execute_result",
          "data": {
            "text/plain": [
              "Store                        1115\n",
              "StoreType                       4\n",
              "Assortment                      3\n",
              "CompetitionDistance           654\n",
              "CompetitionOpenSinceMonth      12\n",
              "CompetitionOpenSinceYear       23\n",
              "Promo2                          2\n",
              "Promo2SinceWeek                24\n",
              "Promo2SinceYear                 7\n",
              "PromoInterval                   3\n",
              "dtype: int64"
            ]
          },
          "metadata": {},
          "execution_count": 30
        }
      ]
    },
    {
      "cell_type": "code",
      "metadata": {
        "colab": {
          "base_uri": "https://localhost:8080/",
          "height": 295
        },
        "id": "2A7BWEB2M_yL",
        "outputId": "29f3d308-572a-40c2-b2b4-c80ff72ba84a"
      },
      "source": [
        "df_store.describe()"
      ],
      "execution_count": 31,
      "outputs": [
        {
          "output_type": "execute_result",
          "data": {
            "text/html": [
              "<div>\n",
              "<style scoped>\n",
              "    .dataframe tbody tr th:only-of-type {\n",
              "        vertical-align: middle;\n",
              "    }\n",
              "\n",
              "    .dataframe tbody tr th {\n",
              "        vertical-align: top;\n",
              "    }\n",
              "\n",
              "    .dataframe thead th {\n",
              "        text-align: right;\n",
              "    }\n",
              "</style>\n",
              "<table border=\"1\" class=\"dataframe\">\n",
              "  <thead>\n",
              "    <tr style=\"text-align: right;\">\n",
              "      <th></th>\n",
              "      <th>Store</th>\n",
              "      <th>CompetitionDistance</th>\n",
              "      <th>CompetitionOpenSinceMonth</th>\n",
              "      <th>CompetitionOpenSinceYear</th>\n",
              "      <th>Promo2</th>\n",
              "      <th>Promo2SinceWeek</th>\n",
              "      <th>Promo2SinceYear</th>\n",
              "    </tr>\n",
              "  </thead>\n",
              "  <tbody>\n",
              "    <tr>\n",
              "      <th>count</th>\n",
              "      <td>1115.00000</td>\n",
              "      <td>1112.000000</td>\n",
              "      <td>761.000000</td>\n",
              "      <td>761.000000</td>\n",
              "      <td>1115.000000</td>\n",
              "      <td>571.000000</td>\n",
              "      <td>571.000000</td>\n",
              "    </tr>\n",
              "    <tr>\n",
              "      <th>mean</th>\n",
              "      <td>558.00000</td>\n",
              "      <td>5404.901079</td>\n",
              "      <td>7.224704</td>\n",
              "      <td>2008.668857</td>\n",
              "      <td>0.512108</td>\n",
              "      <td>23.595447</td>\n",
              "      <td>2011.763573</td>\n",
              "    </tr>\n",
              "    <tr>\n",
              "      <th>std</th>\n",
              "      <td>322.01708</td>\n",
              "      <td>7663.174720</td>\n",
              "      <td>3.212348</td>\n",
              "      <td>6.195983</td>\n",
              "      <td>0.500078</td>\n",
              "      <td>14.141984</td>\n",
              "      <td>1.674935</td>\n",
              "    </tr>\n",
              "    <tr>\n",
              "      <th>min</th>\n",
              "      <td>1.00000</td>\n",
              "      <td>20.000000</td>\n",
              "      <td>1.000000</td>\n",
              "      <td>1900.000000</td>\n",
              "      <td>0.000000</td>\n",
              "      <td>1.000000</td>\n",
              "      <td>2009.000000</td>\n",
              "    </tr>\n",
              "    <tr>\n",
              "      <th>25%</th>\n",
              "      <td>279.50000</td>\n",
              "      <td>717.500000</td>\n",
              "      <td>4.000000</td>\n",
              "      <td>2006.000000</td>\n",
              "      <td>0.000000</td>\n",
              "      <td>13.000000</td>\n",
              "      <td>2011.000000</td>\n",
              "    </tr>\n",
              "    <tr>\n",
              "      <th>50%</th>\n",
              "      <td>558.00000</td>\n",
              "      <td>2325.000000</td>\n",
              "      <td>8.000000</td>\n",
              "      <td>2010.000000</td>\n",
              "      <td>1.000000</td>\n",
              "      <td>22.000000</td>\n",
              "      <td>2012.000000</td>\n",
              "    </tr>\n",
              "    <tr>\n",
              "      <th>75%</th>\n",
              "      <td>836.50000</td>\n",
              "      <td>6882.500000</td>\n",
              "      <td>10.000000</td>\n",
              "      <td>2013.000000</td>\n",
              "      <td>1.000000</td>\n",
              "      <td>37.000000</td>\n",
              "      <td>2013.000000</td>\n",
              "    </tr>\n",
              "    <tr>\n",
              "      <th>max</th>\n",
              "      <td>1115.00000</td>\n",
              "      <td>75860.000000</td>\n",
              "      <td>12.000000</td>\n",
              "      <td>2015.000000</td>\n",
              "      <td>1.000000</td>\n",
              "      <td>50.000000</td>\n",
              "      <td>2015.000000</td>\n",
              "    </tr>\n",
              "  </tbody>\n",
              "</table>\n",
              "</div>"
            ],
            "text/plain": [
              "            Store  CompetitionDistance  ...  Promo2SinceWeek  Promo2SinceYear\n",
              "count  1115.00000          1112.000000  ...       571.000000       571.000000\n",
              "mean    558.00000          5404.901079  ...        23.595447      2011.763573\n",
              "std     322.01708          7663.174720  ...        14.141984         1.674935\n",
              "min       1.00000            20.000000  ...         1.000000      2009.000000\n",
              "25%     279.50000           717.500000  ...        13.000000      2011.000000\n",
              "50%     558.00000          2325.000000  ...        22.000000      2012.000000\n",
              "75%     836.50000          6882.500000  ...        37.000000      2013.000000\n",
              "max    1115.00000         75860.000000  ...        50.000000      2015.000000\n",
              "\n",
              "[8 rows x 7 columns]"
            ]
          },
          "metadata": {},
          "execution_count": 31
        }
      ]
    },
    {
      "cell_type": "code",
      "metadata": {
        "colab": {
          "base_uri": "https://localhost:8080/"
        },
        "id": "Spd6Du0-NDco",
        "outputId": "9d09459e-ab9e-4950-e617-ef25d1efdcb6"
      },
      "source": [
        "df_store.info()"
      ],
      "execution_count": 32,
      "outputs": [
        {
          "output_type": "stream",
          "name": "stdout",
          "text": [
            "<class 'pandas.core.frame.DataFrame'>\n",
            "RangeIndex: 1115 entries, 0 to 1114\n",
            "Data columns (total 10 columns):\n",
            " #   Column                     Non-Null Count  Dtype  \n",
            "---  ------                     --------------  -----  \n",
            " 0   Store                      1115 non-null   int64  \n",
            " 1   StoreType                  1115 non-null   object \n",
            " 2   Assortment                 1115 non-null   object \n",
            " 3   CompetitionDistance        1112 non-null   float64\n",
            " 4   CompetitionOpenSinceMonth  761 non-null    float64\n",
            " 5   CompetitionOpenSinceYear   761 non-null    float64\n",
            " 6   Promo2                     1115 non-null   int64  \n",
            " 7   Promo2SinceWeek            571 non-null    float64\n",
            " 8   Promo2SinceYear            571 non-null    float64\n",
            " 9   PromoInterval              571 non-null    object \n",
            "dtypes: float64(5), int64(2), object(3)\n",
            "memory usage: 87.2+ KB\n"
          ]
        }
      ]
    },
    {
      "cell_type": "code",
      "metadata": {
        "colab": {
          "base_uri": "https://localhost:8080/",
          "height": 203
        },
        "id": "zGK5udL5NS4K",
        "outputId": "e8c69de5-c23c-40d3-9984-729459c1b7bc"
      },
      "source": [
        "df_train.head()"
      ],
      "execution_count": 33,
      "outputs": [
        {
          "output_type": "execute_result",
          "data": {
            "text/html": [
              "<div>\n",
              "<style scoped>\n",
              "    .dataframe tbody tr th:only-of-type {\n",
              "        vertical-align: middle;\n",
              "    }\n",
              "\n",
              "    .dataframe tbody tr th {\n",
              "        vertical-align: top;\n",
              "    }\n",
              "\n",
              "    .dataframe thead th {\n",
              "        text-align: right;\n",
              "    }\n",
              "</style>\n",
              "<table border=\"1\" class=\"dataframe\">\n",
              "  <thead>\n",
              "    <tr style=\"text-align: right;\">\n",
              "      <th></th>\n",
              "      <th>Store</th>\n",
              "      <th>DayOfWeek</th>\n",
              "      <th>Date</th>\n",
              "      <th>Sales</th>\n",
              "      <th>Customers</th>\n",
              "      <th>Open</th>\n",
              "      <th>Promo</th>\n",
              "      <th>StateHoliday</th>\n",
              "      <th>SchoolHoliday</th>\n",
              "    </tr>\n",
              "  </thead>\n",
              "  <tbody>\n",
              "    <tr>\n",
              "      <th>0</th>\n",
              "      <td>1</td>\n",
              "      <td>5</td>\n",
              "      <td>2015-07-31</td>\n",
              "      <td>5263</td>\n",
              "      <td>555</td>\n",
              "      <td>1</td>\n",
              "      <td>1</td>\n",
              "      <td>0</td>\n",
              "      <td>1</td>\n",
              "    </tr>\n",
              "    <tr>\n",
              "      <th>1</th>\n",
              "      <td>2</td>\n",
              "      <td>5</td>\n",
              "      <td>2015-07-31</td>\n",
              "      <td>6064</td>\n",
              "      <td>625</td>\n",
              "      <td>1</td>\n",
              "      <td>1</td>\n",
              "      <td>0</td>\n",
              "      <td>1</td>\n",
              "    </tr>\n",
              "    <tr>\n",
              "      <th>2</th>\n",
              "      <td>3</td>\n",
              "      <td>5</td>\n",
              "      <td>2015-07-31</td>\n",
              "      <td>8314</td>\n",
              "      <td>821</td>\n",
              "      <td>1</td>\n",
              "      <td>1</td>\n",
              "      <td>0</td>\n",
              "      <td>1</td>\n",
              "    </tr>\n",
              "    <tr>\n",
              "      <th>3</th>\n",
              "      <td>4</td>\n",
              "      <td>5</td>\n",
              "      <td>2015-07-31</td>\n",
              "      <td>13995</td>\n",
              "      <td>1498</td>\n",
              "      <td>1</td>\n",
              "      <td>1</td>\n",
              "      <td>0</td>\n",
              "      <td>1</td>\n",
              "    </tr>\n",
              "    <tr>\n",
              "      <th>4</th>\n",
              "      <td>5</td>\n",
              "      <td>5</td>\n",
              "      <td>2015-07-31</td>\n",
              "      <td>4822</td>\n",
              "      <td>559</td>\n",
              "      <td>1</td>\n",
              "      <td>1</td>\n",
              "      <td>0</td>\n",
              "      <td>1</td>\n",
              "    </tr>\n",
              "  </tbody>\n",
              "</table>\n",
              "</div>"
            ],
            "text/plain": [
              "   Store  DayOfWeek       Date  Sales  ...  Open  Promo  StateHoliday SchoolHoliday\n",
              "0      1          5 2015-07-31   5263  ...     1      1             0             1\n",
              "1      2          5 2015-07-31   6064  ...     1      1             0             1\n",
              "2      3          5 2015-07-31   8314  ...     1      1             0             1\n",
              "3      4          5 2015-07-31  13995  ...     1      1             0             1\n",
              "4      5          5 2015-07-31   4822  ...     1      1             0             1\n",
              "\n",
              "[5 rows x 9 columns]"
            ]
          },
          "metadata": {},
          "execution_count": 33
        }
      ]
    },
    {
      "cell_type": "code",
      "metadata": {
        "colab": {
          "base_uri": "https://localhost:8080/"
        },
        "id": "AOI388J2Nijq",
        "outputId": "07c74d07-a1b6-4468-985f-321ad807f14c"
      },
      "source": [
        "df_train.dtypes"
      ],
      "execution_count": 34,
      "outputs": [
        {
          "output_type": "execute_result",
          "data": {
            "text/plain": [
              "Store                     int64\n",
              "DayOfWeek                 int64\n",
              "Date             datetime64[ns]\n",
              "Sales                     int64\n",
              "Customers                 int64\n",
              "Open                      int64\n",
              "Promo                     int64\n",
              "StateHoliday             object\n",
              "SchoolHoliday             int64\n",
              "dtype: object"
            ]
          },
          "metadata": {},
          "execution_count": 34
        }
      ]
    },
    {
      "cell_type": "code",
      "metadata": {
        "colab": {
          "base_uri": "https://localhost:8080/"
        },
        "id": "g-lhf-aeNl8k",
        "outputId": "a8df3c94-264b-42a1-d839-34debb63fa8a"
      },
      "source": [
        "\n",
        "df_train.shape"
      ],
      "execution_count": 35,
      "outputs": [
        {
          "output_type": "execute_result",
          "data": {
            "text/plain": [
              "(1017209, 9)"
            ]
          },
          "metadata": {},
          "execution_count": 35
        }
      ]
    },
    {
      "cell_type": "code",
      "metadata": {
        "colab": {
          "base_uri": "https://localhost:8080/",
          "height": 295
        },
        "id": "cWvgkmX9Nplu",
        "outputId": "7afd496b-8536-4ae9-e138-a77e60e8af14"
      },
      "source": [
        "df_train.describe()"
      ],
      "execution_count": 36,
      "outputs": [
        {
          "output_type": "execute_result",
          "data": {
            "text/html": [
              "<div>\n",
              "<style scoped>\n",
              "    .dataframe tbody tr th:only-of-type {\n",
              "        vertical-align: middle;\n",
              "    }\n",
              "\n",
              "    .dataframe tbody tr th {\n",
              "        vertical-align: top;\n",
              "    }\n",
              "\n",
              "    .dataframe thead th {\n",
              "        text-align: right;\n",
              "    }\n",
              "</style>\n",
              "<table border=\"1\" class=\"dataframe\">\n",
              "  <thead>\n",
              "    <tr style=\"text-align: right;\">\n",
              "      <th></th>\n",
              "      <th>Store</th>\n",
              "      <th>DayOfWeek</th>\n",
              "      <th>Sales</th>\n",
              "      <th>Customers</th>\n",
              "      <th>Open</th>\n",
              "      <th>Promo</th>\n",
              "      <th>SchoolHoliday</th>\n",
              "    </tr>\n",
              "  </thead>\n",
              "  <tbody>\n",
              "    <tr>\n",
              "      <th>count</th>\n",
              "      <td>1.017209e+06</td>\n",
              "      <td>1.017209e+06</td>\n",
              "      <td>1.017209e+06</td>\n",
              "      <td>1.017209e+06</td>\n",
              "      <td>1.017209e+06</td>\n",
              "      <td>1.017209e+06</td>\n",
              "      <td>1.017209e+06</td>\n",
              "    </tr>\n",
              "    <tr>\n",
              "      <th>mean</th>\n",
              "      <td>5.584297e+02</td>\n",
              "      <td>3.998341e+00</td>\n",
              "      <td>5.773819e+03</td>\n",
              "      <td>6.331459e+02</td>\n",
              "      <td>8.301067e-01</td>\n",
              "      <td>3.815145e-01</td>\n",
              "      <td>1.786467e-01</td>\n",
              "    </tr>\n",
              "    <tr>\n",
              "      <th>std</th>\n",
              "      <td>3.219087e+02</td>\n",
              "      <td>1.997391e+00</td>\n",
              "      <td>3.849926e+03</td>\n",
              "      <td>4.644117e+02</td>\n",
              "      <td>3.755392e-01</td>\n",
              "      <td>4.857586e-01</td>\n",
              "      <td>3.830564e-01</td>\n",
              "    </tr>\n",
              "    <tr>\n",
              "      <th>min</th>\n",
              "      <td>1.000000e+00</td>\n",
              "      <td>1.000000e+00</td>\n",
              "      <td>0.000000e+00</td>\n",
              "      <td>0.000000e+00</td>\n",
              "      <td>0.000000e+00</td>\n",
              "      <td>0.000000e+00</td>\n",
              "      <td>0.000000e+00</td>\n",
              "    </tr>\n",
              "    <tr>\n",
              "      <th>25%</th>\n",
              "      <td>2.800000e+02</td>\n",
              "      <td>2.000000e+00</td>\n",
              "      <td>3.727000e+03</td>\n",
              "      <td>4.050000e+02</td>\n",
              "      <td>1.000000e+00</td>\n",
              "      <td>0.000000e+00</td>\n",
              "      <td>0.000000e+00</td>\n",
              "    </tr>\n",
              "    <tr>\n",
              "      <th>50%</th>\n",
              "      <td>5.580000e+02</td>\n",
              "      <td>4.000000e+00</td>\n",
              "      <td>5.744000e+03</td>\n",
              "      <td>6.090000e+02</td>\n",
              "      <td>1.000000e+00</td>\n",
              "      <td>0.000000e+00</td>\n",
              "      <td>0.000000e+00</td>\n",
              "    </tr>\n",
              "    <tr>\n",
              "      <th>75%</th>\n",
              "      <td>8.380000e+02</td>\n",
              "      <td>6.000000e+00</td>\n",
              "      <td>7.856000e+03</td>\n",
              "      <td>8.370000e+02</td>\n",
              "      <td>1.000000e+00</td>\n",
              "      <td>1.000000e+00</td>\n",
              "      <td>0.000000e+00</td>\n",
              "    </tr>\n",
              "    <tr>\n",
              "      <th>max</th>\n",
              "      <td>1.115000e+03</td>\n",
              "      <td>7.000000e+00</td>\n",
              "      <td>4.155100e+04</td>\n",
              "      <td>7.388000e+03</td>\n",
              "      <td>1.000000e+00</td>\n",
              "      <td>1.000000e+00</td>\n",
              "      <td>1.000000e+00</td>\n",
              "    </tr>\n",
              "  </tbody>\n",
              "</table>\n",
              "</div>"
            ],
            "text/plain": [
              "              Store     DayOfWeek  ...         Promo  SchoolHoliday\n",
              "count  1.017209e+06  1.017209e+06  ...  1.017209e+06   1.017209e+06\n",
              "mean   5.584297e+02  3.998341e+00  ...  3.815145e-01   1.786467e-01\n",
              "std    3.219087e+02  1.997391e+00  ...  4.857586e-01   3.830564e-01\n",
              "min    1.000000e+00  1.000000e+00  ...  0.000000e+00   0.000000e+00\n",
              "25%    2.800000e+02  2.000000e+00  ...  0.000000e+00   0.000000e+00\n",
              "50%    5.580000e+02  4.000000e+00  ...  0.000000e+00   0.000000e+00\n",
              "75%    8.380000e+02  6.000000e+00  ...  1.000000e+00   0.000000e+00\n",
              "max    1.115000e+03  7.000000e+00  ...  1.000000e+00   1.000000e+00\n",
              "\n",
              "[8 rows x 7 columns]"
            ]
          },
          "metadata": {},
          "execution_count": 36
        }
      ]
    },
    {
      "cell_type": "code",
      "metadata": {
        "colab": {
          "base_uri": "https://localhost:8080/"
        },
        "id": "3hPFP5S5NtKY",
        "outputId": "2ab9a622-3db1-455c-9297-ef5c2f6000db"
      },
      "source": [
        "df_train.info()"
      ],
      "execution_count": 37,
      "outputs": [
        {
          "output_type": "stream",
          "name": "stdout",
          "text": [
            "<class 'pandas.core.frame.DataFrame'>\n",
            "RangeIndex: 1017209 entries, 0 to 1017208\n",
            "Data columns (total 9 columns):\n",
            " #   Column         Non-Null Count    Dtype         \n",
            "---  ------         --------------    -----         \n",
            " 0   Store          1017209 non-null  int64         \n",
            " 1   DayOfWeek      1017209 non-null  int64         \n",
            " 2   Date           1017209 non-null  datetime64[ns]\n",
            " 3   Sales          1017209 non-null  int64         \n",
            " 4   Customers      1017209 non-null  int64         \n",
            " 5   Open           1017209 non-null  int64         \n",
            " 6   Promo          1017209 non-null  int64         \n",
            " 7   StateHoliday   1017209 non-null  object        \n",
            " 8   SchoolHoliday  1017209 non-null  int64         \n",
            "dtypes: datetime64[ns](1), int64(7), object(1)\n",
            "memory usage: 69.8+ MB\n"
          ]
        }
      ]
    },
    {
      "cell_type": "code",
      "metadata": {
        "colab": {
          "base_uri": "https://localhost:8080/",
          "height": 357
        },
        "id": "-ZSvP-vQ9cHU",
        "outputId": "b88b091b-a5b7-422d-a197-03a4617b4f05"
      },
      "source": [
        "#how does the data looks like:\n",
        "df_train.head().append(df_train.tail()) #show the first and last 5 rows."
      ],
      "execution_count": 56,
      "outputs": [
        {
          "output_type": "execute_result",
          "data": {
            "text/html": [
              "<div>\n",
              "<style scoped>\n",
              "    .dataframe tbody tr th:only-of-type {\n",
              "        vertical-align: middle;\n",
              "    }\n",
              "\n",
              "    .dataframe tbody tr th {\n",
              "        vertical-align: top;\n",
              "    }\n",
              "\n",
              "    .dataframe thead th {\n",
              "        text-align: right;\n",
              "    }\n",
              "</style>\n",
              "<table border=\"1\" class=\"dataframe\">\n",
              "  <thead>\n",
              "    <tr style=\"text-align: right;\">\n",
              "      <th></th>\n",
              "      <th>Store</th>\n",
              "      <th>DayOfWeek</th>\n",
              "      <th>Sales</th>\n",
              "      <th>Customers</th>\n",
              "      <th>Open</th>\n",
              "      <th>Promo</th>\n",
              "      <th>StateHoliday</th>\n",
              "      <th>SchoolHoliday</th>\n",
              "      <th>Day</th>\n",
              "      <th>Month</th>\n",
              "      <th>Year</th>\n",
              "    </tr>\n",
              "  </thead>\n",
              "  <tbody>\n",
              "    <tr>\n",
              "      <th>0</th>\n",
              "      <td>1</td>\n",
              "      <td>5</td>\n",
              "      <td>5263</td>\n",
              "      <td>555</td>\n",
              "      <td>1</td>\n",
              "      <td>1</td>\n",
              "      <td>0</td>\n",
              "      <td>1</td>\n",
              "      <td>31</td>\n",
              "      <td>7</td>\n",
              "      <td>2015</td>\n",
              "    </tr>\n",
              "    <tr>\n",
              "      <th>1</th>\n",
              "      <td>2</td>\n",
              "      <td>5</td>\n",
              "      <td>6064</td>\n",
              "      <td>625</td>\n",
              "      <td>1</td>\n",
              "      <td>1</td>\n",
              "      <td>0</td>\n",
              "      <td>1</td>\n",
              "      <td>31</td>\n",
              "      <td>7</td>\n",
              "      <td>2015</td>\n",
              "    </tr>\n",
              "    <tr>\n",
              "      <th>2</th>\n",
              "      <td>3</td>\n",
              "      <td>5</td>\n",
              "      <td>8314</td>\n",
              "      <td>821</td>\n",
              "      <td>1</td>\n",
              "      <td>1</td>\n",
              "      <td>0</td>\n",
              "      <td>1</td>\n",
              "      <td>31</td>\n",
              "      <td>7</td>\n",
              "      <td>2015</td>\n",
              "    </tr>\n",
              "    <tr>\n",
              "      <th>3</th>\n",
              "      <td>4</td>\n",
              "      <td>5</td>\n",
              "      <td>13995</td>\n",
              "      <td>1498</td>\n",
              "      <td>1</td>\n",
              "      <td>1</td>\n",
              "      <td>0</td>\n",
              "      <td>1</td>\n",
              "      <td>31</td>\n",
              "      <td>7</td>\n",
              "      <td>2015</td>\n",
              "    </tr>\n",
              "    <tr>\n",
              "      <th>4</th>\n",
              "      <td>5</td>\n",
              "      <td>5</td>\n",
              "      <td>4822</td>\n",
              "      <td>559</td>\n",
              "      <td>1</td>\n",
              "      <td>1</td>\n",
              "      <td>0</td>\n",
              "      <td>1</td>\n",
              "      <td>31</td>\n",
              "      <td>7</td>\n",
              "      <td>2015</td>\n",
              "    </tr>\n",
              "    <tr>\n",
              "      <th>844333</th>\n",
              "      <td>682</td>\n",
              "      <td>2</td>\n",
              "      <td>3375</td>\n",
              "      <td>566</td>\n",
              "      <td>1</td>\n",
              "      <td>0</td>\n",
              "      <td>a</td>\n",
              "      <td>1</td>\n",
              "      <td>1</td>\n",
              "      <td>1</td>\n",
              "      <td>2013</td>\n",
              "    </tr>\n",
              "    <tr>\n",
              "      <th>844334</th>\n",
              "      <td>733</td>\n",
              "      <td>2</td>\n",
              "      <td>10765</td>\n",
              "      <td>2377</td>\n",
              "      <td>1</td>\n",
              "      <td>0</td>\n",
              "      <td>a</td>\n",
              "      <td>1</td>\n",
              "      <td>1</td>\n",
              "      <td>1</td>\n",
              "      <td>2013</td>\n",
              "    </tr>\n",
              "    <tr>\n",
              "      <th>844335</th>\n",
              "      <td>769</td>\n",
              "      <td>2</td>\n",
              "      <td>5035</td>\n",
              "      <td>1248</td>\n",
              "      <td>1</td>\n",
              "      <td>0</td>\n",
              "      <td>a</td>\n",
              "      <td>1</td>\n",
              "      <td>1</td>\n",
              "      <td>1</td>\n",
              "      <td>2013</td>\n",
              "    </tr>\n",
              "    <tr>\n",
              "      <th>844336</th>\n",
              "      <td>948</td>\n",
              "      <td>2</td>\n",
              "      <td>4491</td>\n",
              "      <td>1039</td>\n",
              "      <td>1</td>\n",
              "      <td>0</td>\n",
              "      <td>a</td>\n",
              "      <td>1</td>\n",
              "      <td>1</td>\n",
              "      <td>1</td>\n",
              "      <td>2013</td>\n",
              "    </tr>\n",
              "    <tr>\n",
              "      <th>844337</th>\n",
              "      <td>1097</td>\n",
              "      <td>2</td>\n",
              "      <td>5961</td>\n",
              "      <td>1405</td>\n",
              "      <td>1</td>\n",
              "      <td>0</td>\n",
              "      <td>a</td>\n",
              "      <td>1</td>\n",
              "      <td>1</td>\n",
              "      <td>1</td>\n",
              "      <td>2013</td>\n",
              "    </tr>\n",
              "  </tbody>\n",
              "</table>\n",
              "</div>"
            ],
            "text/plain": [
              "        Store  DayOfWeek  Sales  Customers  ...  SchoolHoliday  Day Month  Year\n",
              "0           1          5   5263        555  ...              1   31     7  2015\n",
              "1           2          5   6064        625  ...              1   31     7  2015\n",
              "2           3          5   8314        821  ...              1   31     7  2015\n",
              "3           4          5  13995       1498  ...              1   31     7  2015\n",
              "4           5          5   4822        559  ...              1   31     7  2015\n",
              "844333    682          2   3375        566  ...              1    1     1  2013\n",
              "844334    733          2  10765       2377  ...              1    1     1  2013\n",
              "844335    769          2   5035       1248  ...              1    1     1  2013\n",
              "844336    948          2   4491       1039  ...              1    1     1  2013\n",
              "844337   1097          2   5961       1405  ...              1    1     1  2013\n",
              "\n",
              "[10 rows x 11 columns]"
            ]
          },
          "metadata": {},
          "execution_count": 56
        }
      ]
    },
    {
      "cell_type": "code",
      "metadata": {
        "id": "4FjmINh69cQR"
      },
      "source": [
        "store_type = df_store['StoreType'].values"
      ],
      "execution_count": 63,
      "outputs": []
    },
    {
      "cell_type": "code",
      "metadata": {
        "id": "1_-yaCJS9cSt"
      },
      "source": [
        "store_type_count_a = 0\n",
        "store_type_count_b = 0\n",
        "store_type_count_c = 0\n",
        "store_type_count_d = 0"
      ],
      "execution_count": 64,
      "outputs": []
    },
    {
      "cell_type": "code",
      "metadata": {
        "id": "3hqpIcFT9cU5"
      },
      "source": [
        "\n",
        "for i in range(len(store_type)):\n",
        "    if store_type[i] == 'a':\n",
        "        store_type_count_a+=1\n",
        "    elif store_type[i] == 'b':\n",
        "        store_type_count_b+=1\n",
        "    elif store_type[i] == 'c':\n",
        "        store_type_count_c+=1\n",
        "    elif store_type[i] == 'd':\n",
        "        store_type_count_d+=1\n"
      ],
      "execution_count": 65,
      "outputs": []
    },
    {
      "cell_type": "code",
      "metadata": {
        "colab": {
          "base_uri": "https://localhost:8080/",
          "height": 410
        },
        "id": "9nqmq2mf9cXo",
        "outputId": "a97813e6-0426-46e6-b869-e55dd497fae0"
      },
      "source": [
        "fig = plt.figure(figsize=(15,6))\n",
        "store_type = ['a', 'b', 'c','d']\n",
        "store_count = [store_type_count_a,store_type_count_b,store_type_count_c,store_type_count_d]\n",
        "plt.bar(store_type,store_count)\n",
        "plt.xlabel('Store Type',size=15)\n",
        "plt.ylabel('Store Type Count',size=15)"
      ],
      "execution_count": 66,
      "outputs": [
        {
          "output_type": "execute_result",
          "data": {
            "text/plain": [
              "<BarContainer object of 4 artists>"
            ]
          },
          "metadata": {},
          "execution_count": 66
        },
        {
          "output_type": "execute_result",
          "data": {
            "text/plain": [
              "Text(0.5, 0, 'Store Type')"
            ]
          },
          "metadata": {},
          "execution_count": 66
        },
        {
          "output_type": "execute_result",
          "data": {
            "text/plain": [
              "Text(0, 0.5, 'Store Type Count')"
            ]
          },
          "metadata": {},
          "execution_count": 66
        },
        {
          "output_type": "display_data",
          "data": {
            "image/png": "[encoded data removed]",
            "text/plain": [
              "<Figure size 1080x432 with 1 Axes>"
            ]
          },
          "metadata": {
            "needs_background": "light"
          }
        }
      ]
    },
    {
      "cell_type": "code",
      "metadata": {
        "id": "4jgLlXAh-7a1"
      },
      "source": [
        "assortment_type = df_store['Assortment'].values\n",
        "assortment_type_count_a = 0\n",
        "assortment_type_count_b = 0\n",
        "assortment_type_count_c = 0\n"
      ],
      "execution_count": 69,
      "outputs": []
    },
    {
      "cell_type": "code",
      "metadata": {
        "id": "kCm1LqeJ-7gB"
      },
      "source": [
        "for i in range(len(assortment_type)):\n",
        "    if assortment_type[i] == 'a':\n",
        "        assortment_type_count_a+=1\n",
        "    elif assortment_type[i] == 'b':\n",
        "        assortment_type_count_b+=1\n",
        "    elif assortment_type[i] == 'c':\n",
        "        assortment_type_count_c+=1"
      ],
      "execution_count": 70,
      "outputs": []
    },
    {
      "cell_type": "code",
      "metadata": {
        "colab": {
          "base_uri": "https://localhost:8080/",
          "height": 410
        },
        "id": "ZGtlBHeg-7jY",
        "outputId": "418058f8-6548-45d9-8d21-054cb66acc25"
      },
      "source": [
        "fig = plt.figure(figsize=(15,6))\n",
        "assortment_type = ['a', 'b', 'c']\n",
        "assortment_count = [assortment_type_count_a,assortment_type_count_b,assortment_type_count_c]\n",
        "plt.bar(assortment_type,assortment_count)\n",
        "plt.xlabel('Assortment Type',size=15)\n",
        "plt.ylabel('Assortment Type Count',size=15)"
      ],
      "execution_count": 71,
      "outputs": [
        {
          "output_type": "execute_result",
          "data": {
            "text/plain": [
              "<BarContainer object of 3 artists>"
            ]
          },
          "metadata": {},
          "execution_count": 71
        },
        {
          "output_type": "execute_result",
          "data": {
            "text/plain": [
              "Text(0.5, 0, 'Assortment Type')"
            ]
          },
          "metadata": {},
          "execution_count": 71
        },
        {
          "output_type": "execute_result",
          "data": {
            "text/plain": [
              "Text(0, 0.5, 'Assortment Type Count')"
            ]
          },
          "metadata": {},
          "execution_count": 71
        },
        {
          "output_type": "display_data",
          "data": {
            "image/png": "[encoded data removed]",
            "text/plain": [
              "<Figure size 1080x432 with 1 Axes>"
            ]
          },
          "metadata": {
            "needs_background": "light"
          }
        }
      ]
    },
    {
      "cell_type": "code",
      "metadata": {
        "id": "Kq4TxCpQ_QQp"
      },
      "source": [
        "df_store['CompetitionDistance'].fillna(value = 0,inplace = True)"
      ],
      "execution_count": 74,
      "outputs": []
    },
    {
      "cell_type": "markdown",
      "metadata": {
        "id": "_zLB-CKwC1-A"
      },
      "source": [
        "### **EDA**\n"
      ]
    },
    {
      "cell_type": "markdown",
      "metadata": {
        "id": "8NOtJSO9AGx3"
      },
      "source": [
        "##  Sales"
      ]
    },
    {
      "cell_type": "code",
      "metadata": {
        "colab": {
          "base_uri": "https://localhost:8080/"
        },
        "id": "UIau99w4_QXV",
        "outputId": "55be4751-0378-4908-bad8-4a4da0e04ea8"
      },
      "source": [
        "opened_sales = (df_train[(df_train.Open == 1) & (df_train.Sales)]) #if the stores are opend\n",
        "opened_sales.Sales.describe()"
      ],
      "execution_count": 78,
      "outputs": [
        {
          "output_type": "execute_result",
          "data": {
            "text/plain": [
              "count    422307.000000\n",
              "mean       6951.782199\n",
              "std        3101.768685\n",
              "min         133.000000\n",
              "25%        4853.000000\n",
              "50%        6367.000000\n",
              "75%        8355.000000\n",
              "max       41551.000000\n",
              "Name: Sales, dtype: float64"
            ]
          },
          "metadata": {},
          "execution_count": 78
        }
      ]
    },
    {
      "cell_type": "code",
      "metadata": {
        "colab": {
          "base_uri": "https://localhost:8080/",
          "height": 353
        },
        "id": "EhaJvI4h_QaB",
        "outputId": "5d03b38c-0d8a-4d96-8c30-6c8451762e5b"
      },
      "source": [
        "f, ax = plt.subplots(1,2, figsize = (20, 5))\n",
        "\n",
        "opened_sales.Sales.plot(kind = \"hist\", title = \"Sales Histogram\", bins = 20, ax = ax[0])\n",
        "opened_sales.Sales.plot.box(title = \"Sales Boxplot\", ax = ax[1])"
      ],
      "execution_count": 79,
      "outputs": [
        {
          "output_type": "execute_result",
          "data": {
            "text/plain": [
              "<matplotlib.axes._subplots.AxesSubplot at 0x7f5207b0f7d0>"
            ]
          },
          "metadata": {},
          "execution_count": 79
        },
        {
          "output_type": "execute_result",
          "data": {
            "text/plain": [
              "<matplotlib.axes._subplots.AxesSubplot at 0x7f5207ae5090>"
            ]
          },
          "metadata": {},
          "execution_count": 79
        },
        {
          "output_type": "display_data",
          "data": {
            "image/png": "[encoded data removed]",
            "text/plain": [
              "<Figure size 1440x360 with 2 Axes>"
            ]
          },
          "metadata": {
            "needs_background": "light"
          }
        }
      ]
    },
    {
      "cell_type": "code",
      "metadata": {
        "colab": {
          "base_uri": "https://localhost:8080/"
        },
        "id": "gt2FoUfGAD6I",
        "outputId": "8650d2ad-606d-4231-cc2d-83b2108fed84"
      },
      "source": [
        "print(\"Rossmann has\", round(opened_sales.Sales[(opened_sales.Sales > 10000)].count() / opened_sales.shape[0] * 100, 2), \n",
        "      \"% of the time big sales, over 10.000 Euros\")\n",
        "print(\"Rossmann has\", round(opened_sales.Sales[(opened_sales.Sales < 1000)].count() / opened_sales.shape[0] * 100, 4), \n",
        "      \"% of the time low sales, under 1000 Euros\")"
      ],
      "execution_count": 80,
      "outputs": [
        {
          "output_type": "stream",
          "name": "stdout",
          "text": [
            "Rossmann has 13.45 % of the time big sales, over 10.000 Euros\n",
            "Rossmann has 0.0277 % of the time low sales, under 1000 Euros\n"
          ]
        }
      ]
    },
    {
      "cell_type": "markdown",
      "metadata": {
        "id": "hY_2uBrxARc9"
      },
      "source": [
        "# customers"
      ]
    },
    {
      "cell_type": "code",
      "metadata": {
        "colab": {
          "base_uri": "https://localhost:8080/"
        },
        "id": "3QV_Y7frAEE8",
        "outputId": "f213655b-c2c5-4e10-b1db-3b57ca397b58"
      },
      "source": [
        "df_train.Customers.describe()"
      ],
      "execution_count": 83,
      "outputs": [
        {
          "output_type": "execute_result",
          "data": {
            "text/plain": [
              "count    844338.000000\n",
              "mean        762.777166\n",
              "std         401.194153\n",
              "min           8.000000\n",
              "25%         519.000000\n",
              "50%         676.000000\n",
              "75%         893.000000\n",
              "max        7388.000000\n",
              "Name: Customers, dtype: float64"
            ]
          },
          "metadata": {},
          "execution_count": 83
        }
      ]
    },
    {
      "cell_type": "code",
      "metadata": {
        "colab": {
          "base_uri": "https://localhost:8080/",
          "height": 353
        },
        "id": "e61QUPS-AEH5",
        "outputId": "0290f059-2f0d-4528-f034-2e57e181bb2a"
      },
      "source": [
        "f, ax = plt.subplots(1,2, figsize = (20, 5))\n",
        "\n",
        "df_train.Customers.plot(kind = \"hist\", title = \"Customers Histogram\", bins = 20, ax = ax[0])\n",
        "df_train.Customers.plot.box(title = \"Sales Boxplot\", ax = ax[1])"
      ],
      "execution_count": 84,
      "outputs": [
        {
          "output_type": "execute_result",
          "data": {
            "text/plain": [
              "<matplotlib.axes._subplots.AxesSubplot at 0x7f5208071310>"
            ]
          },
          "metadata": {},
          "execution_count": 84
        },
        {
          "output_type": "execute_result",
          "data": {
            "text/plain": [
              "<matplotlib.axes._subplots.AxesSubplot at 0x7f5209431ed0>"
            ]
          },
          "metadata": {},
          "execution_count": 84
        },
        {
          "output_type": "display_data",
          "data": {
            "image/png": "[encoded data removed]",
            "text/plain": [
              "<Figure size 1440x360 with 2 Axes>"
            ]
          },
          "metadata": {
            "needs_background": "light"
          }
        }
      ]
    },
    {
      "cell_type": "code",
      "metadata": {
        "colab": {
          "base_uri": "https://localhost:8080/",
          "height": 282
        },
        "id": "SGASYuEBAEMs",
        "outputId": "691bbb41-7651-4466-dcd5-96afb5e42d47"
      },
      "source": [
        "df_store.CompetitionDistance.plot.box() #let me see the outliers, so we can choose between mean and median to fill the NaNs\n",
        "print(\"the median is\", df_store.CompetitionDistance.median(), \"and mean is\", df_store.CompetitionDistance.mean())"
      ],
      "execution_count": 86,
      "outputs": [
        {
          "output_type": "execute_result",
          "data": {
            "text/plain": [
              "<matplotlib.axes._subplots.AxesSubplot at 0x7f5208007f10>"
            ]
          },
          "metadata": {},
          "execution_count": 86
        },
        {
          "output_type": "stream",
          "name": "stdout",
          "text": [
            "the median is 2325.0 and mean is 5396.614349775785\n"
          ]
        },
        {
          "output_type": "display_data",
          "data": {
            "image/png": "[encoded data removed]",
            "text/plain": [
              "<Figure size 432x288 with 1 Axes>"
            ]
          },
          "metadata": {
            "needs_background": "light"
          }
        }
      ]
    },
    {
      "cell_type": "code",
      "metadata": {
        "colab": {
          "base_uri": "https://localhost:8080/"
        },
        "id": "gOpwldLvAtvi",
        "outputId": "7256c018-2900-4408-cc76-bce1ef6265b6"
      },
      "source": [
        "train_store_df = pd.merge(df_train, df_store, how = \"left\", on = \"Store\")\n",
        "train_store_df.info()"
      ],
      "execution_count": 89,
      "outputs": [
        {
          "output_type": "stream",
          "name": "stdout",
          "text": [
            "<class 'pandas.core.frame.DataFrame'>\n",
            "Int64Index: 844338 entries, 0 to 844337\n",
            "Data columns (total 20 columns):\n",
            " #   Column                     Non-Null Count   Dtype  \n",
            "---  ------                     --------------   -----  \n",
            " 0   Store                      844338 non-null  int64  \n",
            " 1   DayOfWeek                  844338 non-null  int64  \n",
            " 2   Sales                      844338 non-null  int64  \n",
            " 3   Customers                  844338 non-null  int64  \n",
            " 4   Open                       844338 non-null  int64  \n",
            " 5   Promo                      844338 non-null  int64  \n",
            " 6   StateHoliday               844338 non-null  object \n",
            " 7   SchoolHoliday              844338 non-null  int64  \n",
            " 8   Day                        844338 non-null  int64  \n",
            " 9   Month                      844338 non-null  int64  \n",
            " 10  Year                       844338 non-null  int64  \n",
            " 11  StoreType                  844338 non-null  object \n",
            " 12  Assortment                 844338 non-null  object \n",
            " 13  CompetitionDistance        844338 non-null  float64\n",
            " 14  CompetitionOpenSinceMonth  844338 non-null  float64\n",
            " 15  CompetitionOpenSinceYear   844338 non-null  float64\n",
            " 16  Promo2                     844338 non-null  int64  \n",
            " 17  Promo2SinceWeek            844338 non-null  float64\n",
            " 18  Promo2SinceYear            844338 non-null  float64\n",
            " 19  PromoInterval              844338 non-null  object \n",
            "dtypes: float64(5), int64(11), object(4)\n",
            "memory usage: 135.3+ MB\n"
          ]
        }
      ]
    },
    {
      "cell_type": "code",
      "metadata": {
        "id": "ZbbIDG3ZAt1J"
      },
      "source": [
        "train_store_df[\"Avg_Customer_Sales\"] = train_store_df.Sales / train_store_df.Customers"
      ],
      "execution_count": 90,
      "outputs": []
    },
    {
      "cell_type": "code",
      "metadata": {
        "colab": {
          "base_uri": "https://localhost:8080/",
          "height": 652
        },
        "id": "V5C7h7VbAt4L",
        "outputId": "46d1bf23-19f0-4b83-87bb-df3a319afe16"
      },
      "source": [
        "f, ax = plt.subplots(2, 3, figsize = (20,10))\n",
        "\n",
        "df_store.groupby(\"StoreType\")[\"Store\"].count().plot(kind = \"bar\", ax = ax[0, 0], title = \"Total StoreTypes in the Dataset\")\n",
        "train_store_df.groupby(\"StoreType\")[\"Sales\"].sum().plot(kind = \"bar\", ax = ax[0,1], title = \"Total Sales of the StoreTypes\")\n",
        "train_store_df.groupby(\"StoreType\")[\"Customers\"].sum().plot(kind = \"bar\", ax = ax[0,2], title = \"Total nr Customers of the StoreTypes\")\n",
        "train_store_df.groupby(\"StoreType\")[\"Sales\"].mean().plot(kind = \"bar\", ax = ax[1,0], title = \"Average Sales of StoreTypes\")\n",
        "train_store_df.groupby(\"StoreType\")[\"Avg_Customer_Sales\"].mean().plot(kind = \"bar\", ax = ax[1,1], title = \"Average Spending per Customer\")\n",
        "train_store_df.groupby(\"StoreType\")[\"Customers\"].mean().plot(kind = \"bar\", ax = ax[1,2], title = \"Average Customers per StoreType\")\n",
        "\n",
        "plt.subplots_adjust(hspace = 0.3)\n",
        "plt.show()"
      ],
      "execution_count": 92,
      "outputs": [
        {
          "output_type": "execute_result",
          "data": {
            "text/plain": [
              "<matplotlib.axes._subplots.AxesSubplot at 0x7f520952f510>"
            ]
          },
          "metadata": {},
          "execution_count": 92
        },
        {
          "output_type": "execute_result",
          "data": {
            "text/plain": [
              "<matplotlib.axes._subplots.AxesSubplot at 0x7f5209509890>"
            ]
          },
          "metadata": {},
          "execution_count": 92
        },
        {
          "output_type": "execute_result",
          "data": {
            "text/plain": [
              "<matplotlib.axes._subplots.AxesSubplot at 0x7f5208055f50>"
            ]
          },
          "metadata": {},
          "execution_count": 92
        },
        {
          "output_type": "execute_result",
          "data": {
            "text/plain": [
              "<matplotlib.axes._subplots.AxesSubplot at 0x7f5208d49810>"
            ]
          },
          "metadata": {},
          "execution_count": 92
        },
        {
          "output_type": "execute_result",
          "data": {
            "text/plain": [
              "<matplotlib.axes._subplots.AxesSubplot at 0x7f52094a2d90>"
            ]
          },
          "metadata": {},
          "execution_count": 92
        },
        {
          "output_type": "execute_result",
          "data": {
            "text/plain": [
              "<matplotlib.axes._subplots.AxesSubplot at 0x7f5207eeedd0>"
            ]
          },
          "metadata": {},
          "execution_count": 92
        },
        {
          "output_type": "display_data",
          "data": {
            "image/png": "[encoded data removed]",
            "text/plain": [
              "<Figure size 1440x720 with 6 Axes>"
            ]
          },
          "metadata": {
            "needs_background": "light"
          }
        }
      ]
    },
    {
      "cell_type": "code",
      "metadata": {
        "colab": {
          "base_uri": "https://localhost:8080/",
          "height": 337
        },
        "id": "J7b_LYYCAt7_",
        "outputId": "2e09fb0a-4d82-460f-acee-9fe2bba5b45b"
      },
      "source": [
        "sns.countplot(data = train_store_df, x = \"StoreType\", hue = \"Assortment\", order=[\"a\",\"b\",\"c\",\"d\"]) \n",
        "print(\"\"\"So only the StoreType B has all assortments. I think thats why they are performing so good. Maybe this StoreType has more sales area.\n",
        "      The assortment C is a good one, because the StoreType D has the best average customer spending.\"\"\")\n",
        "\n",
        "plt.show()"
      ],
      "execution_count": 93,
      "outputs": [
        {
          "output_type": "execute_result",
          "data": {
            "text/plain": [
              "<matplotlib.axes._subplots.AxesSubplot at 0x7f52093706d0>"
            ]
          },
          "metadata": {},
          "execution_count": 93
        },
        {
          "output_type": "stream",
          "name": "stdout",
          "text": [
            "So only the StoreType B has all assortments. I think thats why they are performing so good. Maybe this StoreType has more sales area.\n",
            "      The assortment C is a good one, because the StoreType D has the best average customer spending.\n"
          ]
        },
        {
          "output_type": "display_data",
          "data": {
            "image/png": "[encoded data removed]",
            "text/plain": [
              "<Figure size 432x288 with 1 Axes>"
            ]
          },
          "metadata": {
            "needs_background": "light"
          }
        }
      ]
    },
    {
      "cell_type": "markdown",
      "metadata": {
        "id": "diRwhE65CKHG"
      },
      "source": [
        "# Date"
      ]
    },
    {
      "cell_type": "code",
      "metadata": {
        "colab": {
          "base_uri": "https://localhost:8080/",
          "height": 1000
        },
        "id": "VsoP_lWKAuDe",
        "outputId": "7704af01-9f2f-4d5b-e608-c423a21e06ca"
      },
      "source": [
        "sns.factorplot(data = train_store_df, x =\"Month\", y = \"Sales\", \n",
        "               col = 'Promo', # per store type in cols\n",
        "               hue = 'Promo2',\n",
        "               row = \"Year\"\n",
        "             )\n",
        "# So, of course, if the stores are having promotion the sells are higher.\n",
        "# Overall the store promotions sellings are also higher than the seasionality promotions (Promo2). However I can't see no yearly trend. "
      ],
      "execution_count": 95,
      "outputs": [
        {
          "output_type": "stream",
          "name": "stderr",
          "text": [
            "/usr/local/lib/python3.7/dist-packages/seaborn/categorical.py:3714: UserWarning:\n",
            "\n",
            "The `factorplot` function has been renamed to `catplot`. The original name will be removed in a future release. Please update your code. Note that the default `kind` in `factorplot` (`'point'`) has changed `'strip'` in `catplot`.\n",
            "\n"
          ]
        },
        {
          "output_type": "execute_result",
          "data": {
            "text/plain": [
              "<seaborn.axisgrid.FacetGrid at 0x7f5209107b50>"
            ]
          },
          "metadata": {},
          "execution_count": 95
        },
        {
          "output_type": "display_data",
          "data": {
            "image/png": "[encoded data removed]",
            "text/plain": [
              "<Figure size 765.75x1080 with 6 Axes>"
            ]
          },
          "metadata": {
            "needs_background": "light"
          }
        }
      ]
    },
    {
      "cell_type": "code",
      "metadata": {
        "colab": {
          "base_uri": "https://localhost:8080/",
          "height": 487
        },
        "id": "jvxhojWgAuGj",
        "outputId": "33d3853d-f9da-4ee0-8ab4-5c5e7ddb9879"
      },
      "source": [
        "sns.factorplot(data = train_store_df, x = \"DayOfWeek\", y = \"Sales\", hue = \"Promo\")"
      ],
      "execution_count": 96,
      "outputs": [
        {
          "output_type": "stream",
          "name": "stderr",
          "text": [
            "/usr/local/lib/python3.7/dist-packages/seaborn/categorical.py:3714: UserWarning:\n",
            "\n",
            "The `factorplot` function has been renamed to `catplot`. The original name will be removed in a future release. Please update your code. Note that the default `kind` in `factorplot` (`'point'`) has changed `'strip'` in `catplot`.\n",
            "\n"
          ]
        },
        {
          "output_type": "execute_result",
          "data": {
            "text/plain": [
              "<seaborn.axisgrid.FacetGrid at 0x7f5208c843d0>"
            ]
          },
          "metadata": {},
          "execution_count": 96
        },
        {
          "output_type": "display_data",
          "data": {
            "image/png": "[encoded data removed]",
            "text/plain": [
              "<Figure size 402.375x360 with 1 Axes>"
            ]
          },
          "metadata": {
            "needs_background": "light"
          }
        }
      ]
    },
    {
      "cell_type": "code",
      "metadata": {
        "colab": {
          "base_uri": "https://localhost:8080/",
          "height": 487
        },
        "id": "P63VhXERBtPz",
        "outputId": "22a1ecbd-c38f-4f3b-e8f8-256af672fbb2"
      },
      "source": [
        "sns.factorplot(data = train_store_df, x = \"Month\", y = \"Sales\", col = \"Year\", hue = \"StoreType\")\n",
        "# Yes, we can see a seasonalities, but not trends. The sales stays constantly yearly. "
      ],
      "execution_count": 97,
      "outputs": [
        {
          "output_type": "stream",
          "name": "stderr",
          "text": [
            "/usr/local/lib/python3.7/dist-packages/seaborn/categorical.py:3714: UserWarning:\n",
            "\n",
            "The `factorplot` function has been renamed to `catplot`. The original name will be removed in a future release. Please update your code. Note that the default `kind` in `factorplot` (`'point'`) has changed `'strip'` in `catplot`.\n",
            "\n"
          ]
        },
        {
          "output_type": "execute_result",
          "data": {
            "text/plain": [
              "<seaborn.axisgrid.FacetGrid at 0x7f51fd7d8790>"
            ]
          },
          "metadata": {},
          "execution_count": 97
        },
        {
          "output_type": "display_data",
          "data": {
            "image/png": "[encoded data removed]",
            "text/plain": [
              "<Figure size 1136.88x360 with 3 Axes>"
            ]
          },
          "metadata": {
            "needs_background": "light"
          }
        }
      ]
    },
    {
      "cell_type": "code",
      "metadata": {
        "colab": {
          "base_uri": "https://localhost:8080/"
        },
        "id": "Iv_uirwEBtVZ",
        "outputId": "1aedf395-b16a-4350-9d08-b438ebada897"
      },
      "source": [
        "train_store_df.CompetitionDistance.describe()\n",
        "# The obsverations are continous numbers, so we need to convert them into a categories. Lets a create a new variable.\n",
        "train_store_df[\"CompetitionDistance_Cat\"] = pd.cut(train_store_df[\"CompetitionDistance\"], 5)"
      ],
      "execution_count": 98,
      "outputs": [
        {
          "output_type": "execute_result",
          "data": {
            "text/plain": [
              "count    844338.000000\n",
              "mean       5450.044852\n",
              "std        7801.082007\n",
              "min          20.000000\n",
              "25%         710.000000\n",
              "50%        2325.000000\n",
              "75%        6880.000000\n",
              "max       75860.000000\n",
              "Name: CompetitionDistance, dtype: float64"
            ]
          },
          "metadata": {},
          "execution_count": 98
        }
      ]
    },
    {
      "cell_type": "code",
      "metadata": {
        "colab": {
          "base_uri": "https://localhost:8080/",
          "height": 454
        },
        "id": "7sT65jCoBtxq",
        "outputId": "11ec2fd7-fd6e-4b15-b0c2-2b2e8dbd7345"
      },
      "source": [
        "f, ax = plt.subplots(1,2, figsize = (15,5))\n",
        "\n",
        "train_store_df.groupby(by = \"CompetitionDistance_Cat\").Sales.mean().plot(kind = \"bar\", title = \"Average Total Sales by Competition Distance\", ax = ax[0])\n",
        "train_store_df.groupby(by = \"CompetitionDistance_Cat\").Customers.mean().plot(kind = \"bar\", title = \"Average Total Customers by Competition Distance\", ax = ax[1])\n",
        "\n",
        "# It is pretty clear. If the competions is very far away, the stores are performing better (sales and customers)"
      ],
      "execution_count": 99,
      "outputs": [
        {
          "output_type": "execute_result",
          "data": {
            "text/plain": [
              "<matplotlib.axes._subplots.AxesSubplot at 0x7f51f7175690>"
            ]
          },
          "metadata": {},
          "execution_count": 99
        },
        {
          "output_type": "execute_result",
          "data": {
            "text/plain": [
              "<matplotlib.axes._subplots.AxesSubplot at 0x7f51f9df8f50>"
            ]
          },
          "metadata": {},
          "execution_count": 99
        },
        {
          "output_type": "display_data",
          "data": {
            "image/png": "[encoded data removed]",
            "text/plain": [
              "<Figure size 1080x360 with 2 Axes>"
            ]
          },
          "metadata": {
            "needs_background": "light"
          }
        }
      ]
    },
    {
      "cell_type": "code",
      "metadata": {
        "colab": {
          "base_uri": "https://localhost:8080/",
          "height": 454
        },
        "id": "0ry9pls6B5gM",
        "outputId": "4366fd2b-a80e-4676-edf3-a5673f8d1973"
      },
      "source": [
        "f, ax = plt.subplots(1,2, figsize = (15,5))\n",
        "\n",
        "train_store_df.groupby(by = \"CompetitionDistance_Cat\").Sales.mean().plot(kind = \"bar\", title = \"Average Total Sales by Competition Distance\", ax = ax[0])\n",
        "train_store_df.groupby(by = \"CompetitionDistance_Cat\").Customers.mean().plot(kind = \"bar\", title = \"Average Total Customers by Competition Distance\", ax = ax[1])\n",
        "\n",
        "# It is pretty clear. If the competions is very far away, the stores are performing better (sales and customers)"
      ],
      "execution_count": 100,
      "outputs": [
        {
          "output_type": "execute_result",
          "data": {
            "text/plain": [
              "<matplotlib.axes._subplots.AxesSubplot at 0x7f51fd6f4e90>"
            ]
          },
          "metadata": {},
          "execution_count": 100
        },
        {
          "output_type": "execute_result",
          "data": {
            "text/plain": [
              "<matplotlib.axes._subplots.AxesSubplot at 0x7f51fd6e0050>"
            ]
          },
          "metadata": {},
          "execution_count": 100
        },
        {
          "output_type": "display_data",
          "data": {
            "image/png": "[encoded data removed]",
            "text/plain": [
              "<Figure size 1080x360 with 2 Axes>"
            ]
          },
          "metadata": {
            "needs_background": "light"
          }
        }
      ]
    },
    {
      "cell_type": "markdown",
      "metadata": {
        "id": "h21W95-0COXM"
      },
      "source": [
        "## Open Variable\n"
      ]
    },
    {
      "cell_type": "code",
      "metadata": {
        "colab": {
          "base_uri": "https://localhost:8080/"
        },
        "id": "A9yD-4kdB5lS",
        "outputId": "e9043fb7-7af4-4c14-9c1a-42830c7543e1"
      },
      "source": [
        "print(\"In 3 years, different stores where\", df_train[(df_train.Open == 0)].count()[0], \"times closed\")\n",
        "print(\"From this days,\", df_train[(df_train.Open == 0) & \n",
        "         ((df_train.StateHoliday == \"a\") | \n",
        "         (df_train.StateHoliday == \"b\") | \n",
        "         (df_train.StateHoliday == \"c\"))].count()[0], \"times the stores were closed because of holidays\")\n",
        "print(df_train[(df_train.Open == 0) & (df_train.SchoolHoliday == 1)].count()[0], \"times, some stores were closed because of school holiday\")\n",
        "print(\"The stores were in some sundays opend ->\", df_train[(df_train.Open == 1) & (df_train.DayOfWeek == 7)].count()[0], \"times\")\n",
        "print(\"However,\", df_train[(df_train.Open == 0) & ((df_train.StateHoliday == \"0\") | (df_train.StateHoliday == 0)) & (df_train.SchoolHoliday == 0)].count()[0], \n",
        "      \"times, the stores were closed for no reason (No Holidays o Sunday)\")"
      ],
      "execution_count": 102,
      "outputs": [
        {
          "output_type": "stream",
          "name": "stdout",
          "text": [
            "In 3 years, different stores where 0 times closed\n",
            "From this days, 0 times the stores were closed because of holidays\n",
            "0 times, some stores were closed because of school holiday\n",
            "The stores were in some sundays opend -> 3593 times\n",
            "However, 0 times, the stores were closed for no reason (No Holidays o Sunday)\n"
          ]
        }
      ]
    },
    {
      "cell_type": "code",
      "metadata": {
        "colab": {
          "base_uri": "https://localhost:8080/"
        },
        "id": "qu5y_DuUB5oS",
        "outputId": "eac8a4e9-f57f-4842-d4a1-2329f73bee5f"
      },
      "source": [
        "print(round((df_train.Promo[df_train.Promo == 1].count() / df_train.shape[0] * 100), 2), \"% of the time, has been promotions made\")"
      ],
      "execution_count": 103,
      "outputs": [
        {
          "output_type": "stream",
          "name": "stdout",
          "text": [
            "44.64 % of the time, has been promotions made\n"
          ]
        }
      ]
    },
    {
      "cell_type": "code",
      "metadata": {
        "execution": {
          "iopub.status.busy": "2021-08-30T21:14:32.909413Z",
          "iopub.execute_input": "2021-08-30T21:14:32.909739Z",
          "iopub.status.idle": "2021-08-30T21:14:33.217855Z",
          "shell.execute_reply.started": "2021-08-30T21:14:32.909711Z",
          "shell.execute_reply": "2021-08-30T21:14:33.216920Z"
        },
        "trusted": true,
        "id": "TQPf6Phq7qcd"
      },
      "source": [
        "# Drop closed stores and stores with zero sales\n",
        "df_train = df_train.drop(df_train[(df_train.Open == 0) & (df_train.Sales == 0)].index)\n",
        "df_train = df_train.drop(df_train[(df_train.Open == 1) & (df_train.Sales == 0)].index)\n",
        "df_train = df_train.reset_index(drop=True)"
      ],
      "execution_count": 38,
      "outputs": []
    },
    {
      "cell_type": "markdown",
      "metadata": {
        "id": "NYKrFShB7qce"
      },
      "source": [
        "The feature Date was decomposed into Year, Month, Day and deleted from dataset;"
      ]
    },
    {
      "cell_type": "code",
      "metadata": {
        "execution": {
          "iopub.status.busy": "2021-08-30T21:14:33.219349Z",
          "iopub.execute_input": "2021-08-30T21:14:33.219636Z",
          "iopub.status.idle": "2021-08-30T21:14:33.460248Z",
          "shell.execute_reply.started": "2021-08-30T21:14:33.219609Z",
          "shell.execute_reply": "2021-08-30T21:14:33.459131Z"
        },
        "trusted": true,
        "id": "i14ywpir7qce"
      },
      "source": [
        "df_train['Day'] = df_train['Date'].dt.day\n",
        "df_train['Month'] = df_train['Date'].dt.month\n",
        "df_train['Year'] = df_train['Date'].dt.year\n",
        "\n",
        "del df_train['Date']"
      ],
      "execution_count": 39,
      "outputs": []
    },
    {
      "cell_type": "code",
      "metadata": {
        "colab": {
          "base_uri": "https://localhost:8080/",
          "height": 203
        },
        "id": "H42F4Wk81u5a",
        "outputId": "7d81f7a4-3954-4415-c8f2-afa7e229a07e"
      },
      "source": [
        "df_train.head()"
      ],
      "execution_count": 40,
      "outputs": [
        {
          "output_type": "execute_result",
          "data": {
            "text/html": [
              "<div>\n",
              "<style scoped>\n",
              "    .dataframe tbody tr th:only-of-type {\n",
              "        vertical-align: middle;\n",
              "    }\n",
              "\n",
              "    .dataframe tbody tr th {\n",
              "        vertical-align: top;\n",
              "    }\n",
              "\n",
              "    .dataframe thead th {\n",
              "        text-align: right;\n",
              "    }\n",
              "</style>\n",
              "<table border=\"1\" class=\"dataframe\">\n",
              "  <thead>\n",
              "    <tr style=\"text-align: right;\">\n",
              "      <th></th>\n",
              "      <th>Store</th>\n",
              "      <th>DayOfWeek</th>\n",
              "      <th>Sales</th>\n",
              "      <th>Customers</th>\n",
              "      <th>Open</th>\n",
              "      <th>Promo</th>\n",
              "      <th>StateHoliday</th>\n",
              "      <th>SchoolHoliday</th>\n",
              "      <th>Day</th>\n",
              "      <th>Month</th>\n",
              "      <th>Year</th>\n",
              "    </tr>\n",
              "  </thead>\n",
              "  <tbody>\n",
              "    <tr>\n",
              "      <th>0</th>\n",
              "      <td>1</td>\n",
              "      <td>5</td>\n",
              "      <td>5263</td>\n",
              "      <td>555</td>\n",
              "      <td>1</td>\n",
              "      <td>1</td>\n",
              "      <td>0</td>\n",
              "      <td>1</td>\n",
              "      <td>31</td>\n",
              "      <td>7</td>\n",
              "      <td>2015</td>\n",
              "    </tr>\n",
              "    <tr>\n",
              "      <th>1</th>\n",
              "      <td>2</td>\n",
              "      <td>5</td>\n",
              "      <td>6064</td>\n",
              "      <td>625</td>\n",
              "      <td>1</td>\n",
              "      <td>1</td>\n",
              "      <td>0</td>\n",
              "      <td>1</td>\n",
              "      <td>31</td>\n",
              "      <td>7</td>\n",
              "      <td>2015</td>\n",
              "    </tr>\n",
              "    <tr>\n",
              "      <th>2</th>\n",
              "      <td>3</td>\n",
              "      <td>5</td>\n",
              "      <td>8314</td>\n",
              "      <td>821</td>\n",
              "      <td>1</td>\n",
              "      <td>1</td>\n",
              "      <td>0</td>\n",
              "      <td>1</td>\n",
              "      <td>31</td>\n",
              "      <td>7</td>\n",
              "      <td>2015</td>\n",
              "    </tr>\n",
              "    <tr>\n",
              "      <th>3</th>\n",
              "      <td>4</td>\n",
              "      <td>5</td>\n",
              "      <td>13995</td>\n",
              "      <td>1498</td>\n",
              "      <td>1</td>\n",
              "      <td>1</td>\n",
              "      <td>0</td>\n",
              "      <td>1</td>\n",
              "      <td>31</td>\n",
              "      <td>7</td>\n",
              "      <td>2015</td>\n",
              "    </tr>\n",
              "    <tr>\n",
              "      <th>4</th>\n",
              "      <td>5</td>\n",
              "      <td>5</td>\n",
              "      <td>4822</td>\n",
              "      <td>559</td>\n",
              "      <td>1</td>\n",
              "      <td>1</td>\n",
              "      <td>0</td>\n",
              "      <td>1</td>\n",
              "      <td>31</td>\n",
              "      <td>7</td>\n",
              "      <td>2015</td>\n",
              "    </tr>\n",
              "  </tbody>\n",
              "</table>\n",
              "</div>"
            ],
            "text/plain": [
              "   Store  DayOfWeek  Sales  Customers  ...  SchoolHoliday  Day Month  Year\n",
              "0      1          5   5263        555  ...              1   31     7  2015\n",
              "1      2          5   6064        625  ...              1   31     7  2015\n",
              "2      3          5   8314        821  ...              1   31     7  2015\n",
              "3      4          5  13995       1498  ...              1   31     7  2015\n",
              "4      5          5   4822        559  ...              1   31     7  2015\n",
              "\n",
              "[5 rows x 11 columns]"
            ]
          },
          "metadata": {},
          "execution_count": 40
        }
      ]
    },
    {
      "cell_type": "code",
      "metadata": {
        "colab": {
          "base_uri": "https://localhost:8080/"
        },
        "id": "OI8WhEjx1-pt",
        "outputId": "0daf5701-47b3-4456-86f5-7c277c1a0393"
      },
      "source": [
        "arr = df_train[\"Open\"].unique()\n",
        "print(arr)"
      ],
      "execution_count": 41,
      "outputs": [
        {
          "output_type": "stream",
          "name": "stdout",
          "text": [
            "[1]\n"
          ]
        }
      ]
    },
    {
      "cell_type": "code",
      "metadata": {
        "colab": {
          "base_uri": "https://localhost:8080/"
        },
        "id": "X4G4ef6NNEPi",
        "outputId": "6aa03026-4826-41d3-d00b-cd00408aa750"
      },
      "source": [
        "df_store.isnull().values.any()"
      ],
      "execution_count": 42,
      "outputs": [
        {
          "output_type": "execute_result",
          "data": {
            "text/plain": [
              "True"
            ]
          },
          "metadata": {},
          "execution_count": 42
        }
      ]
    },
    {
      "cell_type": "code",
      "metadata": {
        "colab": {
          "base_uri": "https://localhost:8080/"
        },
        "id": "IceJABFgNJaT",
        "outputId": "faa44ad9-48cd-40e5-8dca-09f32edaa770"
      },
      "source": [
        "df_store.isnull().sum()"
      ],
      "execution_count": 43,
      "outputs": [
        {
          "output_type": "execute_result",
          "data": {
            "text/plain": [
              "Store                          0\n",
              "StoreType                      0\n",
              "Assortment                     0\n",
              "CompetitionDistance            3\n",
              "CompetitionOpenSinceMonth    354\n",
              "CompetitionOpenSinceYear     354\n",
              "Promo2                         0\n",
              "Promo2SinceWeek              544\n",
              "Promo2SinceYear              544\n",
              "PromoInterval                544\n",
              "dtype: int64"
            ]
          },
          "metadata": {},
          "execution_count": 43
        }
      ]
    },
    {
      "cell_type": "markdown",
      "metadata": {
        "id": "epPLgqwn7qce"
      },
      "source": [
        "\n",
        "\n",
        "Next filling missing in store.csv. CompetitionDistance was filling the median value. Other features were filling with 0;"
      ]
    },
    {
      "cell_type": "code",
      "metadata": {
        "execution": {
          "iopub.status.busy": "2021-08-30T21:14:33.461555Z",
          "iopub.execute_input": "2021-08-30T21:14:33.461850Z",
          "iopub.status.idle": "2021-08-30T21:14:33.471018Z",
          "shell.execute_reply.started": "2021-08-30T21:14:33.461823Z",
          "shell.execute_reply": "2021-08-30T21:14:33.470090Z"
        },
        "trusted": true,
        "id": "7vG9fQgH7qcf"
      },
      "source": [
        "df_store['CompetitionDistance'].fillna(df_store['CompetitionDistance'].median(), inplace=True)\n",
        "df_store['CompetitionOpenSinceMonth'].fillna(0, inplace=True)\n",
        "df_store['CompetitionOpenSinceYear'].fillna(0, inplace=True)\n",
        "df_store['Promo2SinceWeek'].fillna(0, inplace=True)\n",
        "df_store['Promo2SinceYear'].fillna(0, inplace=True)\n",
        "df_store['PromoInterval'].fillna(0, inplace=True)"
      ],
      "execution_count": 44,
      "outputs": []
    },
    {
      "cell_type": "markdown",
      "metadata": {
        "id": "TQyxbCqM7qcf"
      },
      "source": [
        "Was merged information about store and training data into one dataframe;"
      ]
    },
    {
      "cell_type": "code",
      "metadata": {
        "execution": {
          "iopub.status.busy": "2021-08-30T21:14:33.472496Z",
          "iopub.execute_input": "2021-08-30T21:14:33.472828Z",
          "iopub.status.idle": "2021-08-30T21:14:33.860836Z",
          "shell.execute_reply.started": "2021-08-30T21:14:33.472776Z",
          "shell.execute_reply": "2021-08-30T21:14:33.859833Z"
        },
        "trusted": true,
        "colab": {
          "base_uri": "https://localhost:8080/",
          "height": 223
        },
        "id": "P-vhqI4t7qcg",
        "outputId": "be7a1bc4-0390-4507-ad79-acf98b939f67"
      },
      "source": [
        "df = pd.merge(df_train, df_store, how='left', on='Store')\n",
        "\n",
        "df.head()"
      ],
      "execution_count": 45,
      "outputs": [
        {
          "output_type": "execute_result",
          "data": {
            "text/html": [
              "<div>\n",
              "<style scoped>\n",
              "    .dataframe tbody tr th:only-of-type {\n",
              "        vertical-align: middle;\n",
              "    }\n",
              "\n",
              "    .dataframe tbody tr th {\n",
              "        vertical-align: top;\n",
              "    }\n",
              "\n",
              "    .dataframe thead th {\n",
              "        text-align: right;\n",
              "    }\n",
              "</style>\n",
              "<table border=\"1\" class=\"dataframe\">\n",
              "  <thead>\n",
              "    <tr style=\"text-align: right;\">\n",
              "      <th></th>\n",
              "      <th>Store</th>\n",
              "      <th>DayOfWeek</th>\n",
              "      <th>Sales</th>\n",
              "      <th>Customers</th>\n",
              "      <th>Open</th>\n",
              "      <th>Promo</th>\n",
              "      <th>StateHoliday</th>\n",
              "      <th>SchoolHoliday</th>\n",
              "      <th>Day</th>\n",
              "      <th>Month</th>\n",
              "      <th>Year</th>\n",
              "      <th>StoreType</th>\n",
              "      <th>Assortment</th>\n",
              "      <th>CompetitionDistance</th>\n",
              "      <th>CompetitionOpenSinceMonth</th>\n",
              "      <th>CompetitionOpenSinceYear</th>\n",
              "      <th>Promo2</th>\n",
              "      <th>Promo2SinceWeek</th>\n",
              "      <th>Promo2SinceYear</th>\n",
              "      <th>PromoInterval</th>\n",
              "    </tr>\n",
              "  </thead>\n",
              "  <tbody>\n",
              "    <tr>\n",
              "      <th>0</th>\n",
              "      <td>1</td>\n",
              "      <td>5</td>\n",
              "      <td>5263</td>\n",
              "      <td>555</td>\n",
              "      <td>1</td>\n",
              "      <td>1</td>\n",
              "      <td>0</td>\n",
              "      <td>1</td>\n",
              "      <td>31</td>\n",
              "      <td>7</td>\n",
              "      <td>2015</td>\n",
              "      <td>c</td>\n",
              "      <td>a</td>\n",
              "      <td>1270.0</td>\n",
              "      <td>9.0</td>\n",
              "      <td>2008.0</td>\n",
              "      <td>0</td>\n",
              "      <td>0.0</td>\n",
              "      <td>0.0</td>\n",
              "      <td>0</td>\n",
              "    </tr>\n",
              "    <tr>\n",
              "      <th>1</th>\n",
              "      <td>2</td>\n",
              "      <td>5</td>\n",
              "      <td>6064</td>\n",
              "      <td>625</td>\n",
              "      <td>1</td>\n",
              "      <td>1</td>\n",
              "      <td>0</td>\n",
              "      <td>1</td>\n",
              "      <td>31</td>\n",
              "      <td>7</td>\n",
              "      <td>2015</td>\n",
              "      <td>a</td>\n",
              "      <td>a</td>\n",
              "      <td>570.0</td>\n",
              "      <td>11.0</td>\n",
              "      <td>2007.0</td>\n",
              "      <td>1</td>\n",
              "      <td>13.0</td>\n",
              "      <td>2010.0</td>\n",
              "      <td>Jan,Apr,Jul,Oct</td>\n",
              "    </tr>\n",
              "    <tr>\n",
              "      <th>2</th>\n",
              "      <td>3</td>\n",
              "      <td>5</td>\n",
              "      <td>8314</td>\n",
              "      <td>821</td>\n",
              "      <td>1</td>\n",
              "      <td>1</td>\n",
              "      <td>0</td>\n",
              "      <td>1</td>\n",
              "      <td>31</td>\n",
              "      <td>7</td>\n",
              "      <td>2015</td>\n",
              "      <td>a</td>\n",
              "      <td>a</td>\n",
              "      <td>14130.0</td>\n",
              "      <td>12.0</td>\n",
              "      <td>2006.0</td>\n",
              "      <td>1</td>\n",
              "      <td>14.0</td>\n",
              "      <td>2011.0</td>\n",
              "      <td>Jan,Apr,Jul,Oct</td>\n",
              "    </tr>\n",
              "    <tr>\n",
              "      <th>3</th>\n",
              "      <td>4</td>\n",
              "      <td>5</td>\n",
              "      <td>13995</td>\n",
              "      <td>1498</td>\n",
              "      <td>1</td>\n",
              "      <td>1</td>\n",
              "      <td>0</td>\n",
              "      <td>1</td>\n",
              "      <td>31</td>\n",
              "      <td>7</td>\n",
              "      <td>2015</td>\n",
              "      <td>c</td>\n",
              "      <td>c</td>\n",
              "      <td>620.0</td>\n",
              "      <td>9.0</td>\n",
              "      <td>2009.0</td>\n",
              "      <td>0</td>\n",
              "      <td>0.0</td>\n",
              "      <td>0.0</td>\n",
              "      <td>0</td>\n",
              "    </tr>\n",
              "    <tr>\n",
              "      <th>4</th>\n",
              "      <td>5</td>\n",
              "      <td>5</td>\n",
              "      <td>4822</td>\n",
              "      <td>559</td>\n",
              "      <td>1</td>\n",
              "      <td>1</td>\n",
              "      <td>0</td>\n",
              "      <td>1</td>\n",
              "      <td>31</td>\n",
              "      <td>7</td>\n",
              "      <td>2015</td>\n",
              "      <td>a</td>\n",
              "      <td>a</td>\n",
              "      <td>29910.0</td>\n",
              "      <td>4.0</td>\n",
              "      <td>2015.0</td>\n",
              "      <td>0</td>\n",
              "      <td>0.0</td>\n",
              "      <td>0.0</td>\n",
              "      <td>0</td>\n",
              "    </tr>\n",
              "  </tbody>\n",
              "</table>\n",
              "</div>"
            ],
            "text/plain": [
              "   Store  DayOfWeek  Sales  ...  Promo2SinceWeek  Promo2SinceYear    PromoInterval\n",
              "0      1          5   5263  ...              0.0              0.0                0\n",
              "1      2          5   6064  ...             13.0           2010.0  Jan,Apr,Jul,Oct\n",
              "2      3          5   8314  ...             14.0           2011.0  Jan,Apr,Jul,Oct\n",
              "3      4          5  13995  ...              0.0              0.0                0\n",
              "4      5          5   4822  ...              0.0              0.0                0\n",
              "\n",
              "[5 rows x 20 columns]"
            ]
          },
          "metadata": {},
          "execution_count": 45
        }
      ]
    },
    {
      "cell_type": "code",
      "metadata": {
        "colab": {
          "base_uri": "https://localhost:8080/",
          "height": 542
        },
        "id": "307WGnv6N7F2",
        "outputId": "5e7c4d16-3263-490b-b95d-fcc72ce2fe1f"
      },
      "source": [
        "round(df.describe().T,2)"
      ],
      "execution_count": 46,
      "outputs": [
        {
          "output_type": "execute_result",
          "data": {
            "text/html": [
              "<div>\n",
              "<style scoped>\n",
              "    .dataframe tbody tr th:only-of-type {\n",
              "        vertical-align: middle;\n",
              "    }\n",
              "\n",
              "    .dataframe tbody tr th {\n",
              "        vertical-align: top;\n",
              "    }\n",
              "\n",
              "    .dataframe thead th {\n",
              "        text-align: right;\n",
              "    }\n",
              "</style>\n",
              "<table border=\"1\" class=\"dataframe\">\n",
              "  <thead>\n",
              "    <tr style=\"text-align: right;\">\n",
              "      <th></th>\n",
              "      <th>count</th>\n",
              "      <th>mean</th>\n",
              "      <th>std</th>\n",
              "      <th>min</th>\n",
              "      <th>25%</th>\n",
              "      <th>50%</th>\n",
              "      <th>75%</th>\n",
              "      <th>max</th>\n",
              "    </tr>\n",
              "  </thead>\n",
              "  <tbody>\n",
              "    <tr>\n",
              "      <th>Store</th>\n",
              "      <td>844338.0</td>\n",
              "      <td>558.42</td>\n",
              "      <td>321.73</td>\n",
              "      <td>1.0</td>\n",
              "      <td>280.0</td>\n",
              "      <td>558.0</td>\n",
              "      <td>837.0</td>\n",
              "      <td>1115.0</td>\n",
              "    </tr>\n",
              "    <tr>\n",
              "      <th>DayOfWeek</th>\n",
              "      <td>844338.0</td>\n",
              "      <td>3.52</td>\n",
              "      <td>1.72</td>\n",
              "      <td>1.0</td>\n",
              "      <td>2.0</td>\n",
              "      <td>3.0</td>\n",
              "      <td>5.0</td>\n",
              "      <td>7.0</td>\n",
              "    </tr>\n",
              "    <tr>\n",
              "      <th>Sales</th>\n",
              "      <td>844338.0</td>\n",
              "      <td>6955.96</td>\n",
              "      <td>3103.82</td>\n",
              "      <td>46.0</td>\n",
              "      <td>4859.0</td>\n",
              "      <td>6369.0</td>\n",
              "      <td>8360.0</td>\n",
              "      <td>41551.0</td>\n",
              "    </tr>\n",
              "    <tr>\n",
              "      <th>Customers</th>\n",
              "      <td>844338.0</td>\n",
              "      <td>762.78</td>\n",
              "      <td>401.19</td>\n",
              "      <td>8.0</td>\n",
              "      <td>519.0</td>\n",
              "      <td>676.0</td>\n",
              "      <td>893.0</td>\n",
              "      <td>7388.0</td>\n",
              "    </tr>\n",
              "    <tr>\n",
              "      <th>Open</th>\n",
              "      <td>844338.0</td>\n",
              "      <td>1.00</td>\n",
              "      <td>0.00</td>\n",
              "      <td>1.0</td>\n",
              "      <td>1.0</td>\n",
              "      <td>1.0</td>\n",
              "      <td>1.0</td>\n",
              "      <td>1.0</td>\n",
              "    </tr>\n",
              "    <tr>\n",
              "      <th>Promo</th>\n",
              "      <td>844338.0</td>\n",
              "      <td>0.45</td>\n",
              "      <td>0.50</td>\n",
              "      <td>0.0</td>\n",
              "      <td>0.0</td>\n",
              "      <td>0.0</td>\n",
              "      <td>1.0</td>\n",
              "      <td>1.0</td>\n",
              "    </tr>\n",
              "    <tr>\n",
              "      <th>SchoolHoliday</th>\n",
              "      <td>844338.0</td>\n",
              "      <td>0.19</td>\n",
              "      <td>0.40</td>\n",
              "      <td>0.0</td>\n",
              "      <td>0.0</td>\n",
              "      <td>0.0</td>\n",
              "      <td>0.0</td>\n",
              "      <td>1.0</td>\n",
              "    </tr>\n",
              "    <tr>\n",
              "      <th>Day</th>\n",
              "      <td>844338.0</td>\n",
              "      <td>15.84</td>\n",
              "      <td>8.68</td>\n",
              "      <td>1.0</td>\n",
              "      <td>8.0</td>\n",
              "      <td>16.0</td>\n",
              "      <td>23.0</td>\n",
              "      <td>31.0</td>\n",
              "    </tr>\n",
              "    <tr>\n",
              "      <th>Month</th>\n",
              "      <td>844338.0</td>\n",
              "      <td>5.85</td>\n",
              "      <td>3.32</td>\n",
              "      <td>1.0</td>\n",
              "      <td>3.0</td>\n",
              "      <td>6.0</td>\n",
              "      <td>8.0</td>\n",
              "      <td>12.0</td>\n",
              "    </tr>\n",
              "    <tr>\n",
              "      <th>Year</th>\n",
              "      <td>844338.0</td>\n",
              "      <td>2013.83</td>\n",
              "      <td>0.78</td>\n",
              "      <td>2013.0</td>\n",
              "      <td>2013.0</td>\n",
              "      <td>2014.0</td>\n",
              "      <td>2014.0</td>\n",
              "      <td>2015.0</td>\n",
              "    </tr>\n",
              "    <tr>\n",
              "      <th>CompetitionDistance</th>\n",
              "      <td>844338.0</td>\n",
              "      <td>5450.04</td>\n",
              "      <td>7801.08</td>\n",
              "      <td>20.0</td>\n",
              "      <td>710.0</td>\n",
              "      <td>2325.0</td>\n",
              "      <td>6880.0</td>\n",
              "      <td>75860.0</td>\n",
              "    </tr>\n",
              "    <tr>\n",
              "      <th>CompetitionOpenSinceMonth</th>\n",
              "      <td>844338.0</td>\n",
              "      <td>4.93</td>\n",
              "      <td>4.28</td>\n",
              "      <td>0.0</td>\n",
              "      <td>0.0</td>\n",
              "      <td>4.0</td>\n",
              "      <td>9.0</td>\n",
              "      <td>12.0</td>\n",
              "    </tr>\n",
              "    <tr>\n",
              "      <th>CompetitionOpenSinceYear</th>\n",
              "      <td>844338.0</td>\n",
              "      <td>1369.69</td>\n",
              "      <td>935.56</td>\n",
              "      <td>0.0</td>\n",
              "      <td>0.0</td>\n",
              "      <td>2006.0</td>\n",
              "      <td>2011.0</td>\n",
              "      <td>2015.0</td>\n",
              "    </tr>\n",
              "    <tr>\n",
              "      <th>Promo2</th>\n",
              "      <td>844338.0</td>\n",
              "      <td>0.50</td>\n",
              "      <td>0.50</td>\n",
              "      <td>0.0</td>\n",
              "      <td>0.0</td>\n",
              "      <td>0.0</td>\n",
              "      <td>1.0</td>\n",
              "      <td>1.0</td>\n",
              "    </tr>\n",
              "    <tr>\n",
              "      <th>Promo2SinceWeek</th>\n",
              "      <td>844338.0</td>\n",
              "      <td>11.60</td>\n",
              "      <td>15.31</td>\n",
              "      <td>0.0</td>\n",
              "      <td>0.0</td>\n",
              "      <td>0.0</td>\n",
              "      <td>22.0</td>\n",
              "      <td>50.0</td>\n",
              "    </tr>\n",
              "    <tr>\n",
              "      <th>Promo2SinceYear</th>\n",
              "      <td>844338.0</td>\n",
              "      <td>1003.20</td>\n",
              "      <td>1005.87</td>\n",
              "      <td>0.0</td>\n",
              "      <td>0.0</td>\n",
              "      <td>0.0</td>\n",
              "      <td>2012.0</td>\n",
              "      <td>2015.0</td>\n",
              "    </tr>\n",
              "  </tbody>\n",
              "</table>\n",
              "</div>"
            ],
            "text/plain": [
              "                              count     mean      std  ...     50%     75%      max\n",
              "Store                      844338.0   558.42   321.73  ...   558.0   837.0   1115.0\n",
              "DayOfWeek                  844338.0     3.52     1.72  ...     3.0     5.0      7.0\n",
              "Sales                      844338.0  6955.96  3103.82  ...  6369.0  8360.0  41551.0\n",
              "Customers                  844338.0   762.78   401.19  ...   676.0   893.0   7388.0\n",
              "Open                       844338.0     1.00     0.00  ...     1.0     1.0      1.0\n",
              "Promo                      844338.0     0.45     0.50  ...     0.0     1.0      1.0\n",
              "SchoolHoliday              844338.0     0.19     0.40  ...     0.0     0.0      1.0\n",
              "Day                        844338.0    15.84     8.68  ...    16.0    23.0     31.0\n",
              "Month                      844338.0     5.85     3.32  ...     6.0     8.0     12.0\n",
              "Year                       844338.0  2013.83     0.78  ...  2014.0  2014.0   2015.0\n",
              "CompetitionDistance        844338.0  5450.04  7801.08  ...  2325.0  6880.0  75860.0\n",
              "CompetitionOpenSinceMonth  844338.0     4.93     4.28  ...     4.0     9.0     12.0\n",
              "CompetitionOpenSinceYear   844338.0  1369.69   935.56  ...  2006.0  2011.0   2015.0\n",
              "Promo2                     844338.0     0.50     0.50  ...     0.0     1.0      1.0\n",
              "Promo2SinceWeek            844338.0    11.60    15.31  ...     0.0    22.0     50.0\n",
              "Promo2SinceYear            844338.0  1003.20  1005.87  ...     0.0  2012.0   2015.0\n",
              "\n",
              "[16 rows x 8 columns]"
            ]
          },
          "metadata": {},
          "execution_count": 46
        }
      ]
    },
    {
      "cell_type": "markdown",
      "metadata": {
        "id": "MVb6Tj5c7qch"
      },
      "source": [
        "Change features type from object to category;"
      ]
    },
    {
      "cell_type": "code",
      "metadata": {
        "execution": {
          "iopub.status.busy": "2021-08-30T21:14:33.862109Z",
          "iopub.execute_input": "2021-08-30T21:14:33.862415Z",
          "iopub.status.idle": "2021-08-30T21:14:34.134759Z",
          "shell.execute_reply.started": "2021-08-30T21:14:33.862386Z",
          "shell.execute_reply": "2021-08-30T21:14:34.133592Z"
        },
        "trusted": true,
        "id": "v9QxSuVg7qci"
      },
      "source": [
        "df['StateHoliday'] = df['StateHoliday'].astype('category')\n",
        "df['Assortment'] = df['Assortment'].astype('category')\n",
        "df['StoreType'] = df['StoreType'].astype('category')\n",
        "df['PromoInterval'] = df['PromoInterval'].astype('category')"
      ],
      "execution_count": 47,
      "outputs": []
    },
    {
      "cell_type": "markdown",
      "metadata": {
        "id": "ECa3e3EL7qci"
      },
      "source": [
        "CompetitionOpenSinceYear and CompetitionOpneSinceMonth have the same underlying meaning, that’s why they were merged into one variable CompetiotionOpenSince;"
      ]
    },
    {
      "cell_type": "code",
      "metadata": {
        "execution": {
          "iopub.status.busy": "2021-08-30T21:14:34.137368Z",
          "iopub.execute_input": "2021-08-30T21:14:34.137808Z",
          "iopub.status.idle": "2021-08-30T21:14:34.165096Z",
          "shell.execute_reply.started": "2021-08-30T21:14:34.137764Z",
          "shell.execute_reply": "2021-08-30T21:14:34.164163Z"
        },
        "trusted": true,
        "id": "l7GvHxU17qcj"
      },
      "source": [
        "df['CompetitionOpenSince'] = np.where((df['CompetitionOpenSinceMonth'] == 0) & (df['CompetitionOpenSinceYear'] == 0),\n",
        "                                      0,\n",
        "                                      (df['Month'] - df['CompetitionOpenSinceMonth']) + (12 * df['Year'] - df['CompetitionOpenSinceYear']))\n",
        "\n",
        "del df['CompetitionOpenSinceYear']\n",
        "del df['CompetitionOpenSinceMonth']"
      ],
      "execution_count": 48,
      "outputs": []
    },
    {
      "cell_type": "code",
      "metadata": {
        "colab": {
          "base_uri": "https://localhost:8080/",
          "height": 376
        },
        "id": "NW4mA-k9N9vH",
        "outputId": "f5f932c3-981b-4964-81cc-8395426d1884"
      },
      "source": [
        "#Determining and visualize how Assortment affects the Customers\n",
        "new = df.groupby(by=['Assortment'])['Customers'].mean()\n",
        "new.head()\n",
        "new.plot(kind='bar',title='Customers and Assorments')\n",
        "plt.show()"
      ],
      "execution_count": 49,
      "outputs": [
        {
          "output_type": "execute_result",
          "data": {
            "text/plain": [
              "Assortment\n",
              "a     748.000978\n",
              "b    2067.550250\n",
              "c     752.202641\n",
              "Name: Customers, dtype: float64"
            ]
          },
          "metadata": {},
          "execution_count": 49
        },
        {
          "output_type": "execute_result",
          "data": {
            "text/plain": [
              "<matplotlib.axes._subplots.AxesSubplot at 0x7f520a1b5e10>"
            ]
          },
          "metadata": {},
          "execution_count": 49
        },
        {
          "output_type": "display_data",
          "data": {
            "image/png": "[encoded data removed]",
            "text/plain": [
              "<Figure size 432x288 with 1 Axes>"
            ]
          },
          "metadata": {
            "needs_background": "light"
          }
        }
      ]
    },
    {
      "cell_type": "code",
      "metadata": {
        "colab": {
          "base_uri": "https://localhost:8080/"
        },
        "id": "TBpYBzohOJl-",
        "outputId": "ff3c5bc6-6fc5-44d9-d858-c585a8a96ebb"
      },
      "source": [
        "#There are 4 store types and 3 merchandise\n",
        "df.groupby(['StoreType','Assortment']).Assortment.count()"
      ],
      "execution_count": 50,
      "outputs": [
        {
          "output_type": "execute_result",
          "data": {
            "text/plain": [
              "StoreType  Assortment\n",
              "a          a             286028\n",
              "           b                  0\n",
              "           c             171014\n",
              "b          a               6409\n",
              "           b               8209\n",
              "           c                942\n",
              "c          a              58554\n",
              "           b                  0\n",
              "           c              54414\n",
              "d          a              93884\n",
              "           b                  0\n",
              "           c             164884\n",
              "Name: Assortment, dtype: int64"
            ]
          },
          "metadata": {},
          "execution_count": 50
        }
      ]
    },
    {
      "cell_type": "code",
      "metadata": {
        "colab": {
          "base_uri": "https://localhost:8080/",
          "height": 379
        },
        "id": "nLgRsbVCOKMl",
        "outputId": "2b93fee5-acce-4cd7-8786-e5edccd61d99"
      },
      "source": [
        "plt.hist(df['Sales'])\n",
        "plt.title('Histogram of Store Sales')\n",
        "plt.ylabel('bins')\n",
        "plt.xlabel('frequency')\n",
        "plt.show()"
      ],
      "execution_count": 51,
      "outputs": [
        {
          "output_type": "execute_result",
          "data": {
            "text/plain": [
              "(array([1.28330e+05, 5.03908e+05, 1.67317e+05, 3.28390e+04, 8.82800e+03,\n",
              "        2.34300e+03, 5.63000e+02, 1.74000e+02, 2.80000e+01, 8.00000e+00]),\n",
              " array([   46. ,  4196.5,  8347. , 12497.5, 16648. , 20798.5, 24949. ,\n",
              "        29099.5, 33250. , 37400.5, 41551. ]),\n",
              " <a list of 10 Patch objects>)"
            ]
          },
          "metadata": {},
          "execution_count": 51
        },
        {
          "output_type": "execute_result",
          "data": {
            "text/plain": [
              "Text(0.5, 1.0, 'Histogram of Store Sales')"
            ]
          },
          "metadata": {},
          "execution_count": 51
        },
        {
          "output_type": "execute_result",
          "data": {
            "text/plain": [
              "Text(0, 0.5, 'bins')"
            ]
          },
          "metadata": {},
          "execution_count": 51
        },
        {
          "output_type": "execute_result",
          "data": {
            "text/plain": [
              "Text(0.5, 0, 'frequency')"
            ]
          },
          "metadata": {},
          "execution_count": 51
        },
        {
          "output_type": "display_data",
          "data": {
            "image/png": "[encoded data removed]",
            "text/plain": [
              "<Figure size 432x288 with 1 Axes>"
            ]
          },
          "metadata": {
            "needs_background": "light"
          }
        }
      ]
    },
    {
      "cell_type": "code",
      "metadata": {
        "colab": {
          "base_uri": "https://localhost:8080/",
          "height": 531
        },
        "id": "PE3JXc41ONZM",
        "outputId": "026cc117-33a1-4f64-d328-dc53b1c4c26a"
      },
      "source": [
        "df.corr()"
      ],
      "execution_count": null,
      "outputs": [
        {
          "output_type": "execute_result",
          "data": {
            "text/html": [
              "<div>\n",
              "<style scoped>\n",
              "    .dataframe tbody tr th:only-of-type {\n",
              "        vertical-align: middle;\n",
              "    }\n",
              "\n",
              "    .dataframe tbody tr th {\n",
              "        vertical-align: top;\n",
              "    }\n",
              "\n",
              "    .dataframe thead th {\n",
              "        text-align: right;\n",
              "    }\n",
              "</style>\n",
              "<table border=\"1\" class=\"dataframe\">\n",
              "  <thead>\n",
              "    <tr style=\"text-align: right;\">\n",
              "      <th></th>\n",
              "      <th>Store</th>\n",
              "      <th>DayOfWeek</th>\n",
              "      <th>Sales</th>\n",
              "      <th>Customers</th>\n",
              "      <th>Open</th>\n",
              "      <th>Promo</th>\n",
              "      <th>SchoolHoliday</th>\n",
              "      <th>Day</th>\n",
              "      <th>Month</th>\n",
              "      <th>Year</th>\n",
              "      <th>CompetitionDistance</th>\n",
              "      <th>Promo2</th>\n",
              "      <th>Promo2SinceWeek</th>\n",
              "      <th>Promo2SinceYear</th>\n",
              "      <th>CompetitionOpenSince</th>\n",
              "    </tr>\n",
              "  </thead>\n",
              "  <tbody>\n",
              "    <tr>\n",
              "      <th>Store</th>\n",
              "      <td>1.000000</td>\n",
              "      <td>0.000343</td>\n",
              "      <td>0.007723</td>\n",
              "      <td>0.033991</td>\n",
              "      <td>NaN</td>\n",
              "      <td>-0.000015</td>\n",
              "      <td>0.000526</td>\n",
              "      <td>-0.000127</td>\n",
              "      <td>0.001371</td>\n",
              "      <td>0.000300</td>\n",
              "      <td>-0.027080</td>\n",
              "      <td>0.007728</td>\n",
              "      <td>0.010853</td>\n",
              "      <td>0.007760</td>\n",
              "      <td>-0.008116</td>\n",
              "    </tr>\n",
              "    <tr>\n",
              "      <th>DayOfWeek</th>\n",
              "      <td>0.000343</td>\n",
              "      <td>1.000000</td>\n",
              "      <td>-0.178753</td>\n",
              "      <td>-0.097266</td>\n",
              "      <td>NaN</td>\n",
              "      <td>-0.289268</td>\n",
              "      <td>-0.139319</td>\n",
              "      <td>0.008525</td>\n",
              "      <td>-0.019710</td>\n",
              "      <td>0.002099</td>\n",
              "      <td>0.005540</td>\n",
              "      <td>-0.003252</td>\n",
              "      <td>-0.002736</td>\n",
              "      <td>-0.003249</td>\n",
              "      <td>-0.001317</td>\n",
              "    </tr>\n",
              "    <tr>\n",
              "      <th>Sales</th>\n",
              "      <td>0.007723</td>\n",
              "      <td>-0.178753</td>\n",
              "      <td>1.000000</td>\n",
              "      <td>0.823552</td>\n",
              "      <td>NaN</td>\n",
              "      <td>0.368199</td>\n",
              "      <td>0.038635</td>\n",
              "      <td>-0.051865</td>\n",
              "      <td>0.073589</td>\n",
              "      <td>0.036151</td>\n",
              "      <td>-0.035908</td>\n",
              "      <td>-0.127556</td>\n",
              "      <td>-0.058493</td>\n",
              "      <td>-0.127581</td>\n",
              "      <td>0.005220</td>\n",
              "    </tr>\n",
              "    <tr>\n",
              "      <th>Customers</th>\n",
              "      <td>0.033991</td>\n",
              "      <td>-0.097266</td>\n",
              "      <td>0.823552</td>\n",
              "      <td>1.000000</td>\n",
              "      <td>NaN</td>\n",
              "      <td>0.182859</td>\n",
              "      <td>0.024915</td>\n",
              "      <td>-0.035416</td>\n",
              "      <td>0.053843</td>\n",
              "      <td>-0.000842</td>\n",
              "      <td>-0.147859</td>\n",
              "      <td>-0.202207</td>\n",
              "      <td>-0.130864</td>\n",
              "      <td>-0.202180</td>\n",
              "      <td>0.001626</td>\n",
              "    </tr>\n",
              "    <tr>\n",
              "      <th>Open</th>\n",
              "      <td>NaN</td>\n",
              "      <td>NaN</td>\n",
              "      <td>NaN</td>\n",
              "      <td>NaN</td>\n",
              "      <td>NaN</td>\n",
              "      <td>NaN</td>\n",
              "      <td>NaN</td>\n",
              "      <td>NaN</td>\n",
              "      <td>NaN</td>\n",
              "      <td>NaN</td>\n",
              "      <td>NaN</td>\n",
              "      <td>NaN</td>\n",
              "      <td>NaN</td>\n",
              "      <td>NaN</td>\n",
              "      <td>NaN</td>\n",
              "    </tr>\n",
              "    <tr>\n",
              "      <th>Promo</th>\n",
              "      <td>-0.000015</td>\n",
              "      <td>-0.289268</td>\n",
              "      <td>0.368199</td>\n",
              "      <td>0.182859</td>\n",
              "      <td>NaN</td>\n",
              "      <td>1.000000</td>\n",
              "      <td>0.028971</td>\n",
              "      <td>-0.126442</td>\n",
              "      <td>-0.006412</td>\n",
              "      <td>0.023990</td>\n",
              "      <td>-0.002392</td>\n",
              "      <td>-0.000316</td>\n",
              "      <td>-0.000795</td>\n",
              "      <td>-0.000317</td>\n",
              "      <td>0.001001</td>\n",
              "    </tr>\n",
              "    <tr>\n",
              "      <th>SchoolHoliday</th>\n",
              "      <td>0.000526</td>\n",
              "      <td>-0.139319</td>\n",
              "      <td>0.038635</td>\n",
              "      <td>0.024915</td>\n",
              "      <td>NaN</td>\n",
              "      <td>0.028971</td>\n",
              "      <td>1.000000</td>\n",
              "      <td>0.038085</td>\n",
              "      <td>0.118467</td>\n",
              "      <td>-0.038686</td>\n",
              "      <td>-0.004256</td>\n",
              "      <td>-0.008244</td>\n",
              "      <td>-0.008069</td>\n",
              "      <td>-0.008247</td>\n",
              "      <td>0.000117</td>\n",
              "    </tr>\n",
              "    <tr>\n",
              "      <th>Day</th>\n",
              "      <td>-0.000127</td>\n",
              "      <td>0.008525</td>\n",
              "      <td>-0.051865</td>\n",
              "      <td>-0.035416</td>\n",
              "      <td>NaN</td>\n",
              "      <td>-0.126442</td>\n",
              "      <td>0.038085</td>\n",
              "      <td>1.000000</td>\n",
              "      <td>-0.006577</td>\n",
              "      <td>0.008387</td>\n",
              "      <td>-0.000227</td>\n",
              "      <td>0.001355</td>\n",
              "      <td>0.001450</td>\n",
              "      <td>0.001356</td>\n",
              "      <td>-0.000318</td>\n",
              "    </tr>\n",
              "    <tr>\n",
              "      <th>Month</th>\n",
              "      <td>0.001371</td>\n",
              "      <td>-0.019710</td>\n",
              "      <td>0.073589</td>\n",
              "      <td>0.053843</td>\n",
              "      <td>NaN</td>\n",
              "      <td>-0.006412</td>\n",
              "      <td>0.118467</td>\n",
              "      <td>-0.006577</td>\n",
              "      <td>1.000000</td>\n",
              "      <td>-0.268835</td>\n",
              "      <td>0.003882</td>\n",
              "      <td>-0.025807</td>\n",
              "      <td>-0.031721</td>\n",
              "      <td>-0.025812</td>\n",
              "      <td>-0.000737</td>\n",
              "    </tr>\n",
              "    <tr>\n",
              "      <th>Year</th>\n",
              "      <td>0.000300</td>\n",
              "      <td>0.002099</td>\n",
              "      <td>0.036151</td>\n",
              "      <td>-0.000842</td>\n",
              "      <td>NaN</td>\n",
              "      <td>0.023990</td>\n",
              "      <td>-0.038686</td>\n",
              "      <td>0.008387</td>\n",
              "      <td>-0.268835</td>\n",
              "      <td>1.000000</td>\n",
              "      <td>0.000632</td>\n",
              "      <td>-0.005696</td>\n",
              "      <td>-0.006905</td>\n",
              "      <td>-0.005697</td>\n",
              "      <td>0.000379</td>\n",
              "    </tr>\n",
              "    <tr>\n",
              "      <th>CompetitionDistance</th>\n",
              "      <td>-0.027080</td>\n",
              "      <td>0.005540</td>\n",
              "      <td>-0.035908</td>\n",
              "      <td>-0.147859</td>\n",
              "      <td>NaN</td>\n",
              "      <td>-0.002392</td>\n",
              "      <td>-0.004256</td>\n",
              "      <td>-0.000227</td>\n",
              "      <td>0.003882</td>\n",
              "      <td>0.000632</td>\n",
              "      <td>1.000000</td>\n",
              "      <td>-0.141318</td>\n",
              "      <td>-0.124008</td>\n",
              "      <td>-0.141381</td>\n",
              "      <td>-0.001335</td>\n",
              "    </tr>\n",
              "    <tr>\n",
              "      <th>Promo2</th>\n",
              "      <td>0.007728</td>\n",
              "      <td>-0.003252</td>\n",
              "      <td>-0.127556</td>\n",
              "      <td>-0.202207</td>\n",
              "      <td>NaN</td>\n",
              "      <td>-0.000316</td>\n",
              "      <td>-0.008244</td>\n",
              "      <td>0.001355</td>\n",
              "      <td>-0.025807</td>\n",
              "      <td>-0.005696</td>\n",
              "      <td>-0.141318</td>\n",
              "      <td>1.000000</td>\n",
              "      <td>0.759536</td>\n",
              "      <td>0.999999</td>\n",
              "      <td>-0.098212</td>\n",
              "    </tr>\n",
              "    <tr>\n",
              "      <th>Promo2SinceWeek</th>\n",
              "      <td>0.010853</td>\n",
              "      <td>-0.002736</td>\n",
              "      <td>-0.058493</td>\n",
              "      <td>-0.130864</td>\n",
              "      <td>NaN</td>\n",
              "      <td>-0.000795</td>\n",
              "      <td>-0.008069</td>\n",
              "      <td>0.001450</td>\n",
              "      <td>-0.031721</td>\n",
              "      <td>-0.006905</td>\n",
              "      <td>-0.124008</td>\n",
              "      <td>0.759536</td>\n",
              "      <td>1.000000</td>\n",
              "      <td>0.759350</td>\n",
              "      <td>-0.124627</td>\n",
              "    </tr>\n",
              "    <tr>\n",
              "      <th>Promo2SinceYear</th>\n",
              "      <td>0.007760</td>\n",
              "      <td>-0.003249</td>\n",
              "      <td>-0.127581</td>\n",
              "      <td>-0.202180</td>\n",
              "      <td>NaN</td>\n",
              "      <td>-0.000317</td>\n",
              "      <td>-0.008247</td>\n",
              "      <td>0.001356</td>\n",
              "      <td>-0.025812</td>\n",
              "      <td>-0.005697</td>\n",
              "      <td>-0.141381</td>\n",
              "      <td>0.999999</td>\n",
              "      <td>0.759350</td>\n",
              "      <td>1.000000</td>\n",
              "      <td>-0.098144</td>\n",
              "    </tr>\n",
              "    <tr>\n",
              "      <th>CompetitionOpenSince</th>\n",
              "      <td>-0.008116</td>\n",
              "      <td>-0.001317</td>\n",
              "      <td>0.005220</td>\n",
              "      <td>0.001626</td>\n",
              "      <td>NaN</td>\n",
              "      <td>0.001001</td>\n",
              "      <td>0.000117</td>\n",
              "      <td>-0.000318</td>\n",
              "      <td>-0.000737</td>\n",
              "      <td>0.000379</td>\n",
              "      <td>-0.001335</td>\n",
              "      <td>-0.098212</td>\n",
              "      <td>-0.124627</td>\n",
              "      <td>-0.098144</td>\n",
              "      <td>1.000000</td>\n",
              "    </tr>\n",
              "  </tbody>\n",
              "</table>\n",
              "</div>"
            ],
            "text/plain": [
              "                         Store  ...  CompetitionOpenSince\n",
              "Store                 1.000000  ...             -0.008116\n",
              "DayOfWeek             0.000343  ...             -0.001317\n",
              "Sales                 0.007723  ...              0.005220\n",
              "Customers             0.033991  ...              0.001626\n",
              "Open                       NaN  ...                   NaN\n",
              "Promo                -0.000015  ...              0.001001\n",
              "SchoolHoliday         0.000526  ...              0.000117\n",
              "Day                  -0.000127  ...             -0.000318\n",
              "Month                 0.001371  ...             -0.000737\n",
              "Year                  0.000300  ...              0.000379\n",
              "CompetitionDistance  -0.027080  ...             -0.001335\n",
              "Promo2                0.007728  ...             -0.098212\n",
              "Promo2SinceWeek       0.010853  ...             -0.124627\n",
              "Promo2SinceYear       0.007760  ...             -0.098144\n",
              "CompetitionOpenSince -0.008116  ...              1.000000\n",
              "\n",
              "[15 rows x 15 columns]"
            ]
          },
          "metadata": {},
          "execution_count": 29
        }
      ]
    },
    {
      "cell_type": "code",
      "metadata": {
        "colab": {
          "base_uri": "https://localhost:8080/"
        },
        "id": "tsaljjoAOevM",
        "outputId": "946420b7-08f8-4f96-8d4a-8d24cd267990"
      },
      "source": [
        "df.corr()[\"Sales\"].sort_values()"
      ],
      "execution_count": null,
      "outputs": [
        {
          "output_type": "execute_result",
          "data": {
            "text/plain": [
              "DayOfWeek              -0.178753\n",
              "Promo2SinceYear        -0.127581\n",
              "Promo2                 -0.127556\n",
              "Promo2SinceWeek        -0.058493\n",
              "Day                    -0.051865\n",
              "CompetitionDistance    -0.035908\n",
              "CompetitionOpenSince    0.005220\n",
              "Store                   0.007723\n",
              "Year                    0.036151\n",
              "SchoolHoliday           0.038635\n",
              "Month                   0.073589\n",
              "Promo                   0.368199\n",
              "Customers               0.823552\n",
              "Sales                   1.000000\n",
              "Open                         NaN\n",
              "Name: Sales, dtype: float64"
            ]
          },
          "metadata": {},
          "execution_count": 30
        }
      ]
    },
    {
      "cell_type": "code",
      "metadata": {
        "colab": {
          "base_uri": "https://localhost:8080/",
          "height": 717
        },
        "id": "Qe-kNtGwOj-D",
        "outputId": "89cc8381-481a-49cb-d374-35c8e17161b1"
      },
      "source": [
        "f,ax = plt.subplots(figsize=(10, 10))\n",
        "sns.heatmap(df.corr(), annot=True, linewidths=.5, fmt= '.1f',ax=ax)\n",
        "plt.show()"
      ],
      "execution_count": null,
      "outputs": [
        {
          "output_type": "execute_result",
          "data": {
            "text/plain": [
              "<matplotlib.axes._subplots.AxesSubplot at 0x7f6b82b2b350>"
            ]
          },
          "metadata": {},
          "execution_count": 31
        },
        {
          "output_type": "display_data",
          "data": {
            "image/png": "[encoded data removed]",
            "text/plain": [
              "<Figure size 720x720 with 2 Axes>"
            ]
          },
          "metadata": {
            "needs_background": "light"
          }
        }
      ]
    },
    {
      "cell_type": "markdown",
      "metadata": {
        "id": "tGqtPlnY7qcj"
      },
      "source": [
        "The feature StateHoliday changed into a boolean variable. The value {a, b, c} became 1, other 0;"
      ]
    },
    {
      "cell_type": "code",
      "metadata": {
        "execution": {
          "iopub.status.busy": "2021-08-30T21:14:34.166345Z",
          "iopub.execute_input": "2021-08-30T21:14:34.166630Z",
          "iopub.status.idle": "2021-08-30T21:14:34.183790Z",
          "shell.execute_reply.started": "2021-08-30T21:14:34.166604Z",
          "shell.execute_reply": "2021-08-30T21:14:34.182732Z"
        },
        "trusted": true,
        "id": "uWlhG64h7qcj"
      },
      "source": [
        "df['is_holiday_state'] = df['StateHoliday'].map({'0': 0,\n",
        "                                                 'a': 1,\n",
        "                                                 'b': 1,\n",
        "                                                 'c': 1\n",
        "                                                }\n",
        ")\n",
        "\n",
        "del df['StateHoliday']"
      ],
      "execution_count": null,
      "outputs": []
    },
    {
      "cell_type": "markdown",
      "metadata": {
        "id": "dl89w6qr7qcj"
      },
      "source": [
        "The features Assortment, StoreType, PromoInterval were coding with the get_dummies function;"
      ]
    },
    {
      "cell_type": "code",
      "metadata": {
        "execution": {
          "iopub.status.busy": "2021-08-30T21:14:34.185845Z",
          "iopub.execute_input": "2021-08-30T21:14:34.186281Z",
          "iopub.status.idle": "2021-08-30T21:14:34.486001Z",
          "shell.execute_reply.started": "2021-08-30T21:14:34.186238Z",
          "shell.execute_reply": "2021-08-30T21:14:34.484747Z"
        },
        "trusted": true,
        "id": "eljbcd3u7qck"
      },
      "source": [
        "\n",
        "df = pd.get_dummies(df, columns=['Assortment', 'StoreType', 'PromoInterval'],\n",
        "                    prefix=['is_Assortment', 'is_StoreType', 'is_PromoInterval']\n",
        ")"
      ],
      "execution_count": null,
      "outputs": []
    },
    {
      "cell_type": "markdown",
      "metadata": {
        "id": "w4CHoL707qck"
      },
      "source": [
        "And finally, all these steps were done for test.csv."
      ]
    },
    {
      "cell_type": "code",
      "metadata": {
        "execution": {
          "iopub.status.busy": "2021-08-30T21:14:34.496752Z",
          "iopub.execute_input": "2021-08-30T21:14:34.497187Z",
          "iopub.status.idle": "2021-08-30T21:14:35.116128Z",
          "shell.execute_reply.started": "2021-08-30T21:14:34.497142Z",
          "shell.execute_reply": "2021-08-30T21:14:35.115036Z"
        },
        "trusted": true,
        "id": "lLmrTviR7qck"
      },
      "source": [
        "df_test = pd.read_csv('test.csv',\n",
        "                       sep=',',\n",
        "                       parse_dates=['Date'],\n",
        "                       date_parser=str_to_date,\n",
        "                       low_memory=False\n",
        ")"
      ],
      "execution_count": null,
      "outputs": []
    },
    {
      "cell_type": "code",
      "metadata": {
        "execution": {
          "iopub.status.busy": "2021-08-30T21:14:53.308508Z",
          "iopub.execute_input": "2021-08-30T21:14:53.309355Z",
          "iopub.status.idle": "2021-08-30T21:14:53.319557Z",
          "shell.execute_reply.started": "2021-08-30T21:14:53.309304Z",
          "shell.execute_reply": "2021-08-30T21:14:53.318372Z"
        },
        "trusted": true,
        "id": "3eoU7uyw7qcl"
      },
      "source": [
        "df_test['Open'].fillna(1, inplace = True)"
      ],
      "execution_count": null,
      "outputs": []
    },
    {
      "cell_type": "code",
      "metadata": {
        "execution": {
          "iopub.status.busy": "2021-08-30T21:14:54.076494Z",
          "iopub.execute_input": "2021-08-30T21:14:54.077062Z",
          "iopub.status.idle": "2021-08-30T21:14:54.102246Z",
          "shell.execute_reply.started": "2021-08-30T21:14:54.077015Z",
          "shell.execute_reply": "2021-08-30T21:14:54.101117Z"
        },
        "trusted": true,
        "id": "jKAXKVmX7qcl"
      },
      "source": [
        "df_test['Day'] = df_test['Date'].dt.day\n",
        "df_test['Month'] = df_test['Date'].dt.month\n",
        "df_test['Year'] = df_test['Date'].dt.year\n",
        "\n",
        "del df_test['Date']"
      ],
      "execution_count": null,
      "outputs": []
    },
    {
      "cell_type": "code",
      "metadata": {
        "execution": {
          "iopub.status.busy": "2021-08-30T21:14:54.877532Z",
          "iopub.execute_input": "2021-08-30T21:14:54.877878Z",
          "iopub.status.idle": "2021-08-30T21:14:54.903922Z",
          "shell.execute_reply.started": "2021-08-30T21:14:54.877849Z",
          "shell.execute_reply": "2021-08-30T21:14:54.903065Z"
        },
        "trusted": true,
        "id": "I9cZGgfc7qcl"
      },
      "source": [
        "df_test_store = pd.merge(df_test, df_store, how='left', on='Store')"
      ],
      "execution_count": null,
      "outputs": []
    },
    {
      "cell_type": "code",
      "metadata": {
        "execution": {
          "iopub.status.busy": "2021-08-30T21:14:55.561427Z",
          "iopub.execute_input": "2021-08-30T21:14:55.561984Z",
          "iopub.status.idle": "2021-08-30T21:14:55.587792Z",
          "shell.execute_reply.started": "2021-08-30T21:14:55.561932Z",
          "shell.execute_reply": "2021-08-30T21:14:55.586798Z"
        },
        "trusted": true,
        "id": "69aJB_fs7qcl"
      },
      "source": [
        "df_test_store['StateHoliday'] = df_test_store['StateHoliday'].astype('category')\n",
        "df_test_store['Assortment'] = df_test_store['Assortment'].astype('category')\n",
        "df_test_store['StoreType'] = df_test_store['StoreType'].astype('category')\n",
        "df_test_store['PromoInterval'] = df_test_store['PromoInterval'].astype('category')"
      ],
      "execution_count": null,
      "outputs": []
    },
    {
      "cell_type": "code",
      "metadata": {
        "execution": {
          "iopub.status.busy": "2021-08-30T21:14:56.271418Z",
          "iopub.execute_input": "2021-08-30T21:14:56.272029Z",
          "iopub.status.idle": "2021-08-30T21:14:56.285820Z",
          "shell.execute_reply.started": "2021-08-30T21:14:56.271972Z",
          "shell.execute_reply": "2021-08-30T21:14:56.284743Z"
        },
        "trusted": true,
        "id": "BNgYuX257qcl"
      },
      "source": [
        "df_test_store['CompetitionOpenSince'] = np.where((df_test_store['CompetitionOpenSinceMonth'] == 0) & (df_test_store['CompetitionOpenSinceYear'] == 0),\n",
        "                                      0,\n",
        "                                      (df_test_store['Month'] - df_test_store['CompetitionOpenSinceMonth']) + (12 * df_test_store['Year'] - df_test_store['CompetitionOpenSinceYear']))\n",
        "\n",
        "del df_test_store['CompetitionOpenSinceYear']\n",
        "del df_test_store['CompetitionOpenSinceMonth']"
      ],
      "execution_count": null,
      "outputs": []
    },
    {
      "cell_type": "code",
      "metadata": {
        "execution": {
          "iopub.status.busy": "2021-08-30T21:14:57.058944Z",
          "iopub.execute_input": "2021-08-30T21:14:57.059585Z",
          "iopub.status.idle": "2021-08-30T21:14:57.069354Z",
          "shell.execute_reply.started": "2021-08-30T21:14:57.059530Z",
          "shell.execute_reply": "2021-08-30T21:14:57.067922Z"
        },
        "trusted": true,
        "id": "0pbakpDU7qcl"
      },
      "source": [
        "df_test_store['is_holiday_state'] = df_test_store['StateHoliday'].map({'0': 0,\n",
        "                                                                       'a': 1,\n",
        "                                                                       'b': 1,\n",
        "                                                                       'c': 1\n",
        "                                                                       }\n",
        ")\n",
        "\n",
        "del df_test_store['StateHoliday']"
      ],
      "execution_count": null,
      "outputs": []
    },
    {
      "cell_type": "code",
      "metadata": {
        "execution": {
          "iopub.status.busy": "2021-08-30T21:14:57.831054Z",
          "iopub.execute_input": "2021-08-30T21:14:57.831433Z",
          "iopub.status.idle": "2021-08-30T21:14:57.851524Z",
          "shell.execute_reply.started": "2021-08-30T21:14:57.831400Z",
          "shell.execute_reply": "2021-08-30T21:14:57.850696Z"
        },
        "trusted": true,
        "id": "-la-QTN27qcm"
      },
      "source": [
        "df_test_store = pd.get_dummies(df_test_store, columns=['Assortment', 'StoreType', 'PromoInterval'],\n",
        "                               prefix=['is_Assortment', 'is_StoreType', 'is_PromoInterval']\n",
        ")"
      ],
      "execution_count": null,
      "outputs": []
    },
    {
      "cell_type": "markdown",
      "metadata": {
        "id": "VxLSCnh6GrDM"
      },
      "source": [
        ""
      ]
    },
    {
      "cell_type": "code",
      "metadata": {
        "execution": {
          "iopub.status.busy": "2021-08-30T21:14:58.589307Z",
          "iopub.execute_input": "2021-08-30T21:14:58.589816Z",
          "iopub.status.idle": "2021-08-30T21:14:58.595619Z",
          "shell.execute_reply.started": "2021-08-30T21:14:58.589782Z",
          "shell.execute_reply": "2021-08-30T21:14:58.594761Z"
        },
        "trusted": true,
        "id": "4nflPyKB7qcm"
      },
      "source": [
        "df_test_store['is_holiday_state'] = df_test_store['is_holiday_state'].astype('int64')"
      ],
      "execution_count": null,
      "outputs": []
    },
    {
      "cell_type": "markdown",
      "metadata": {
        "id": "jIwYlj-_7qcm"
      },
      "source": [
        "Split on train and target;"
      ]
    },
    {
      "cell_type": "code",
      "metadata": {
        "execution": {
          "iopub.status.busy": "2021-08-30T21:15:01.099066Z",
          "iopub.execute_input": "2021-08-30T21:15:01.099637Z",
          "iopub.status.idle": "2021-08-30T21:15:01.294039Z",
          "shell.execute_reply.started": "2021-08-30T21:15:01.099587Z",
          "shell.execute_reply": "2021-08-30T21:15:01.293059Z"
        },
        "trusted": true,
        "id": "p7bb_0NX7qcm"
      },
      "source": [
        "features = df.drop(['Customers', 'Sales'], axis=1)\n",
        "targets = np.log(df.Sales)"
      ],
      "execution_count": null,
      "outputs": []
    },
    {
      "cell_type": "code",
      "metadata": {
        "execution": {
          "iopub.status.busy": "2021-08-30T21:15:03.199552Z",
          "iopub.execute_input": "2021-08-30T21:15:03.200079Z",
          "iopub.status.idle": "2021-08-30T21:15:03.953814Z",
          "shell.execute_reply.started": "2021-08-30T21:15:03.200039Z",
          "shell.execute_reply": "2021-08-30T21:15:03.952703Z"
        },
        "trusted": true,
        "id": "KB7Jqbp37qcn"
      },
      "source": [
        "#### Train Test Split\n",
        "from sklearn.model_selection import train_test_split\n",
        "X_train,X_test,y_train,y_test=train_test_split(features, targets,test_size=0.20,random_state=0)"
      ],
      "execution_count": null,
      "outputs": []
    },
    {
      "cell_type": "code",
      "metadata": {
        "execution": {
          "iopub.status.busy": "2021-08-30T21:15:04.397793Z",
          "iopub.execute_input": "2021-08-30T21:15:04.398176Z",
          "iopub.status.idle": "2021-08-30T21:15:04.403531Z",
          "shell.execute_reply.started": "2021-08-30T21:15:04.398144Z",
          "shell.execute_reply": "2021-08-30T21:15:04.402142Z"
        },
        "trusted": true,
        "id": "5nJNvtfm7qcn"
      },
      "source": [
        "def rmspe(true, pred):\n",
        "    rmspe = np.sqrt(np.mean((true - pred)**2))\n",
        "    return rmspe"
      ],
      "execution_count": null,
      "outputs": []
    },
    {
      "cell_type": "markdown",
      "metadata": {
        "id": "axMb0crxN_re"
      },
      "source": [
        "### Linear Regression"
      ]
    },
    {
      "cell_type": "code",
      "metadata": {
        "colab": {
          "base_uri": "https://localhost:8080/"
        },
        "id": "98gByiwnOAPH",
        "outputId": "45ec15ac-f5c6-4162-b943-4a9d18646729"
      },
      "source": [
        "from sklearn.linear_model import LinearRegression\n",
        "\n",
        "lin_reg = LinearRegression()\n",
        "\n",
        "lin_reg.fit(X_train, y_train)"
      ],
      "execution_count": null,
      "outputs": [
        {
          "output_type": "execute_result",
          "data": {
            "text/plain": [
              "LinearRegression(copy_X=True, fit_intercept=True, n_jobs=None, normalize=False)"
            ]
          },
          "metadata": {},
          "execution_count": 49
        }
      ]
    },
    {
      "cell_type": "code",
      "metadata": {
        "id": "FsU4iZQBOO_r"
      },
      "source": [
        "y_pred = lin_reg.predict(X_test)"
      ],
      "execution_count": null,
      "outputs": []
    },
    {
      "cell_type": "code",
      "metadata": {
        "colab": {
          "base_uri": "https://localhost:8080/"
        },
        "id": "KqxRra6vOg-l",
        "outputId": "69ba833b-1867-437b-e8e7-396f8b0b055e"
      },
      "source": [
        "rmspe(y_test, y_pred)"
      ],
      "execution_count": null,
      "outputs": [
        {
          "output_type": "execute_result",
          "data": {
            "text/plain": [
              "0.3715884184615002"
            ]
          },
          "metadata": {},
          "execution_count": 51
        }
      ]
    },
    {
      "cell_type": "markdown",
      "metadata": {
        "id": "lFAkYbk37qcq"
      },
      "source": [
        "### Random Forest"
      ]
    },
    {
      "cell_type": "code",
      "metadata": {
        "execution": {
          "iopub.status.busy": "2021-08-30T21:15:20.841112Z",
          "iopub.execute_input": "2021-08-30T21:15:20.841472Z"
        },
        "trusted": true,
        "id": "2G2iksb67qcq"
      },
      "source": [
        "from sklearn.ensemble import RandomForestRegressor\n",
        "rf_Regressor=RandomForestRegressor(n_estimators=10).fit(X_train,y_train)\n",
        "prediction=rf_Regressor.predict(X_test)"
      ],
      "execution_count": null,
      "outputs": []
    },
    {
      "cell_type": "code",
      "metadata": {
        "id": "RjG0HHxkP8f5"
      },
      "source": [
        "y_pred = lin_reg.predict(X_test)"
      ],
      "execution_count": null,
      "outputs": []
    },
    {
      "cell_type": "code",
      "metadata": {
        "colab": {
          "base_uri": "https://localhost:8080/"
        },
        "id": "rK0qYbtjP9FH",
        "outputId": "1e4a1cdd-6715-4065-fdd4-a9bf94cb11d4"
      },
      "source": [
        "rmspe(y_test, y_pred)"
      ],
      "execution_count": null,
      "outputs": [
        {
          "output_type": "execute_result",
          "data": {
            "text/plain": [
              "0.3715884184615002"
            ]
          },
          "metadata": {},
          "execution_count": 54
        }
      ]
    },
    {
      "cell_type": "markdown",
      "metadata": {
        "id": "p7FfseeU7qcr"
      },
      "source": [
        "### XGBoost"
      ]
    },
    {
      "cell_type": "code",
      "metadata": {
        "trusted": true,
        "id": "Lq2j1UgV7qcr",
        "colab": {
          "base_uri": "https://localhost:8080/"
        },
        "outputId": "55774877-055e-40d1-c5bd-2402ba60690d"
      },
      "source": [
        "import xgboost as xgb\n",
        "\n",
        "xg_reg = xgb.XGBRegressor(objective ='reg:linear')\n",
        "\n",
        "xg_reg.fit(X_train, y_train)"
      ],
      "execution_count": null,
      "outputs": [
        {
          "output_type": "stream",
          "name": "stdout",
          "text": [
            "[15:43:37] WARNING: /workspace/src/objective/regression_obj.cu:152: reg:linear is now deprecated in favor of reg:squarederror.\n"
          ]
        },
        {
          "output_type": "execute_result",
          "data": {
            "text/plain": [
              "XGBRegressor(base_score=0.5, booster='gbtree', colsample_bylevel=1,\n",
              "             colsample_bynode=1, colsample_bytree=1, gamma=0,\n",
              "             importance_type='gain', learning_rate=0.1, max_delta_step=0,\n",
              "             max_depth=3, min_child_weight=1, missing=None, n_estimators=100,\n",
              "             n_jobs=1, nthread=None, objective='reg:linear', random_state=0,\n",
              "             reg_alpha=0, reg_lambda=1, scale_pos_weight=1, seed=None,\n",
              "             silent=None, subsample=1, verbosity=1)"
            ]
          },
          "metadata": {},
          "execution_count": 55
        }
      ]
    },
    {
      "cell_type": "code",
      "metadata": {
        "trusted": true,
        "id": "R37KExFJ7qcs"
      },
      "source": [
        "y_pred = xg_reg.predict(X_test)"
      ],
      "execution_count": null,
      "outputs": []
    },
    {
      "cell_type": "code",
      "metadata": {
        "trusted": true,
        "id": "p4R0lrfm7qcs",
        "colab": {
          "base_uri": "https://localhost:8080/"
        },
        "outputId": "515ee916-557e-4459-fc6e-3d49d0210e73"
      },
      "source": [
        "rmspe(y_test,y_pred)"
      ],
      "execution_count": null,
      "outputs": [
        {
          "output_type": "execute_result",
          "data": {
            "text/plain": [
              "0.3281350734087717"
            ]
          },
          "metadata": {},
          "execution_count": 58
        }
      ]
    }
  ]
}